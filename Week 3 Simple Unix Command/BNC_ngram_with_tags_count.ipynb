{
 "cells": [
  {
   "cell_type": "markdown",
   "id": "f9f9b469",
   "metadata": {
    "id": "f9f9b469"
   },
   "source": [
    "## From BNC to Ngram \n",
    "\n",
    "### BNC Data:  \n",
    "https://drive.google.com/file/d/1mKX1DLHDIqKph4e4k1MnYOV3iWtvT7-E/view?usp=sharing\n",
    "\n",
    "### 1. Extract lines containing id, title, classcode, keywords, sentences from each BNC parts\n",
    "\n",
    "grep (global search regular RE)\n",
    "grep是很常見也很常用的命令，它的主要功能是進行字符串數據的比較，然後符合用戶需求的字符串打印出來，但是注意，grep在數據中查找一個字符串時，是以“整行”爲單位進行數據篩選的。\n",
    "\n",
    "egrep (extended RE)\n",
    "\n",
    "Reference\n",
    "https://www.twblogs.net/a/5d26d705bd9eee1e5c84509d"
   ]
  },
  {
   "cell_type": "code",
   "execution_count": 5,
   "id": "afc2d87d",
   "metadata": {
    "id": "afc2d87d",
    "outputId": "1c59e1a7-61b5-4122-8c70-ebe302b529b2"
   },
   "outputs": [
    {
     "name": "stderr",
     "output_type": "stream",
     "text": [
      "系統找不到指定的檔案。\n"
     ]
    }
   ],
   "source": [
    "! time ! egrep -o -h \\\n",
    "'(<idno type=\"bnc\">.*?</idno>|<title>.*?</title>|<classCode.*?</classCode>|<keywords>.*?</keywords>|<s n=\".*?\">|<w c5=\".*?\" hw=\".*?\" pos=\".*?\">.*?</w>|<c c5=\".*?\">.*?</c>|</s>|<p>|</p>)' \\\n",
    "BNC/Texts/*/*/A*.xml > BNC.A.txt"
   ]
  },
  {
   "cell_type": "markdown",
   "id": "c572029d",
   "metadata": {
    "id": "c572029d"
   },
   "source": [
    "\n",
    "####        Repeat Step 1 for all sections A, B, C, D, E, F, G, H, J, and K "
   ]
  },
  {
   "cell_type": "markdown",
   "id": "a20bcf30",
   "metadata": {
    "id": "a20bcf30"
   },
   "source": [
    " ### 2. Convert sentences to bigram (for all sections A to K, no I)\n",
    " ### 2.1 Convert line to word tokens"
   ]
  },
  {
   "cell_type": "code",
   "execution_count": 11,
   "id": "5b00de4c",
   "metadata": {
    "id": "5b00de4c"
   },
   "outputs": [],
   "source": [
    "import re\n",
    "from pprint import pprint\n",
    "\n",
    "def line_to_token(line):\n",
    "    if line.startswith('<s'):\n",
    "        return ('<s> ', '<s>', '<s>') \n",
    "    elif line.startswith('</s'):\n",
    "        return ('</s>', '</s>', '</s>') \n",
    "    elif line.startswith('<w'):\n",
    "        # <w c5=\"VVN\" hw=\"discount\" pos=\"VERB\">discounted </w>\n",
    "        match = re.findall('<w c5=\"(.*?)\" hw=\"(.*?)\" pos=\".*?\">(.*?)</w>', line)\n",
    "        return (match[0][2].strip(), match[0][0].upper(), match[0][1]) #  , tag, word\n",
    "    elif line.startswith('<c'):\n",
    "        match = re.findall('<c c5=\"PUN\">(.*?)</c>', line)\n",
    "        if not match:\n",
    "            return '??? line'\n",
    "        return (match[0], match[0], match[0])\n",
    "\n",
    "def tokens_to_bigram(tokens):\n",
    "    result = []\n",
    "    for i in range(len(tokens)-1):\n",
    "        if i == 1:\n",
    "            word2tag2lemma2 = [tokens[i][j].lower()+' '+tokens[i+1][j] for j in range(3)]\n",
    "        else:\n",
    "            word2tag2lemma2 = [tokens[i][j]+' '+tokens[i+1][j] for j in range(3)]\n",
    "        if word2tag2lemma2[0][0].isalpha() or word2tag2lemma2[0][0] == '<': \n",
    "            result = result + [ '\\t'.join(word2tag2lemma2) ]\n",
    "    return result"
   ]
  },
  {
   "cell_type": "markdown",
   "id": "fc5eb1cc",
   "metadata": {
    "id": "fc5eb1cc"
   },
   "source": [
    "### 2.2 Convert token stream to bigram stream"
   ]
  },
  {
   "cell_type": "code",
   "execution_count": 12,
   "id": "bb7a275e",
   "metadata": {
    "id": "bb7a275e"
   },
   "outputs": [
    {
     "ename": "IndexError",
     "evalue": "list index out of range",
     "output_type": "error",
     "traceback": [
      "\u001b[1;31m---------------------------------------------------------------------------\u001b[0m",
      "\u001b[1;31mIndexError\u001b[0m                                Traceback (most recent call last)",
      "Input \u001b[1;32mIn [12]\u001b[0m, in \u001b[0;36m<cell line: 20>\u001b[1;34m()\u001b[0m\n\u001b[0;32m     17\u001b[0m         \u001b[38;5;28;01mfor\u001b[39;00m batch \u001b[38;5;129;01min\u001b[39;00m \u001b[38;5;124m'\u001b[39m\u001b[38;5;124mA\u001b[39m\u001b[38;5;124m'\u001b[39m:\n\u001b[0;32m     18\u001b[0m             Batch_to_ngram(batch, fileout)\n\u001b[1;32m---> 20\u001b[0m \u001b[43mword_to_bigram\u001b[49m\u001b[43m(\u001b[49m\u001b[38;5;124;43m'\u001b[39;49m\u001b[38;5;124;43mBNC.\u001b[39;49m\u001b[38;5;132;43;01m{0}\u001b[39;49;00m\u001b[38;5;124;43m.txt\u001b[39;49m\u001b[38;5;124;43m'\u001b[39;49m\u001b[43m,\u001b[49m\u001b[43m \u001b[49m\u001b[38;5;124;43m'\u001b[39;49m\u001b[38;5;124;43mBNC.2w.txt\u001b[39;49m\u001b[38;5;124;43m'\u001b[39;49m\u001b[43m)\u001b[49m\n",
      "Input \u001b[1;32mIn [12]\u001b[0m, in \u001b[0;36mword_to_bigram\u001b[1;34m(wordfile, bigramfile)\u001b[0m\n\u001b[0;32m     16\u001b[0m \u001b[38;5;28;01mwith\u001b[39;00m \u001b[38;5;28mopen\u001b[39m(bigramfile, \u001b[38;5;124m'\u001b[39m\u001b[38;5;124mw\u001b[39m\u001b[38;5;124m'\u001b[39m,encoding\u001b[38;5;241m=\u001b[39m\u001b[38;5;124m\"\u001b[39m\u001b[38;5;124mutf-8\u001b[39m\u001b[38;5;124m\"\u001b[39m) \u001b[38;5;28;01mas\u001b[39;00m fileout:\n\u001b[0;32m     17\u001b[0m     \u001b[38;5;28;01mfor\u001b[39;00m batch \u001b[38;5;129;01min\u001b[39;00m \u001b[38;5;124m'\u001b[39m\u001b[38;5;124mA\u001b[39m\u001b[38;5;124m'\u001b[39m:\n\u001b[1;32m---> 18\u001b[0m         \u001b[43mBatch_to_ngram\u001b[49m\u001b[43m(\u001b[49m\u001b[43mbatch\u001b[49m\u001b[43m,\u001b[49m\u001b[43m \u001b[49m\u001b[43mfileout\u001b[49m\u001b[43m)\u001b[49m\n",
      "Input \u001b[1;32mIn [12]\u001b[0m, in \u001b[0;36mword_to_bigram.<locals>.Batch_to_ngram\u001b[1;34m(batch, fileout)\u001b[0m\n\u001b[0;32m      9\u001b[0m \u001b[38;5;28;01melif\u001b[39;00m line\u001b[38;5;241m.\u001b[39mstartswith(\u001b[38;5;124m'\u001b[39m\u001b[38;5;124m</s\u001b[39m\u001b[38;5;124m'\u001b[39m):\n\u001b[0;32m     10\u001b[0m     sentence \u001b[38;5;241m=\u001b[39m [line\u001b[38;5;241m.\u001b[39mstrip() \u001b[38;5;28;01mfor\u001b[39;00m line \u001b[38;5;129;01min\u001b[39;00m lines[sent_start:i\u001b[38;5;241m+\u001b[39m\u001b[38;5;241m1\u001b[39m]]\n\u001b[1;32m---> 11\u001b[0m     tokens \u001b[38;5;241m=\u001b[39m [line_to_token(line) \u001b[38;5;28;01mfor\u001b[39;00m line \u001b[38;5;129;01min\u001b[39;00m sentence ]\n\u001b[0;32m     12\u001b[0m     \u001b[38;5;66;03m#pprint (tokens)\u001b[39;00m\n\u001b[0;32m     13\u001b[0m     bigram \u001b[38;5;241m=\u001b[39m tokens_to_bigram(tokens)\n",
      "Input \u001b[1;32mIn [12]\u001b[0m, in \u001b[0;36m<listcomp>\u001b[1;34m(.0)\u001b[0m\n\u001b[0;32m      9\u001b[0m \u001b[38;5;28;01melif\u001b[39;00m line\u001b[38;5;241m.\u001b[39mstartswith(\u001b[38;5;124m'\u001b[39m\u001b[38;5;124m</s\u001b[39m\u001b[38;5;124m'\u001b[39m):\n\u001b[0;32m     10\u001b[0m     sentence \u001b[38;5;241m=\u001b[39m [line\u001b[38;5;241m.\u001b[39mstrip() \u001b[38;5;28;01mfor\u001b[39;00m line \u001b[38;5;129;01min\u001b[39;00m lines[sent_start:i\u001b[38;5;241m+\u001b[39m\u001b[38;5;241m1\u001b[39m]]\n\u001b[1;32m---> 11\u001b[0m     tokens \u001b[38;5;241m=\u001b[39m [\u001b[43mline_to_token\u001b[49m\u001b[43m(\u001b[49m\u001b[43mline\u001b[49m\u001b[43m)\u001b[49m \u001b[38;5;28;01mfor\u001b[39;00m line \u001b[38;5;129;01min\u001b[39;00m sentence ]\n\u001b[0;32m     12\u001b[0m     \u001b[38;5;66;03m#pprint (tokens)\u001b[39;00m\n\u001b[0;32m     13\u001b[0m     bigram \u001b[38;5;241m=\u001b[39m tokens_to_bigram(tokens)\n",
      "Input \u001b[1;32mIn [11]\u001b[0m, in \u001b[0;36mline_to_token\u001b[1;34m(line)\u001b[0m\n\u001b[0;32m      6\u001b[0m         \u001b[38;5;28;01mif\u001b[39;00m \u001b[38;5;124m'\u001b[39m\u001b[38;5;124m<w\u001b[39m\u001b[38;5;124m'\u001b[39m \u001b[38;5;129;01min\u001b[39;00m line:\n\u001b[0;32m      7\u001b[0m             match \u001b[38;5;241m=\u001b[39m re\u001b[38;5;241m.\u001b[39mfindall(\u001b[38;5;124m'\u001b[39m\u001b[38;5;124m<w c5=\u001b[39m\u001b[38;5;124m\"\u001b[39m\u001b[38;5;124m(.*?)\u001b[39m\u001b[38;5;124m\"\u001b[39m\u001b[38;5;124m hw=\u001b[39m\u001b[38;5;124m\"\u001b[39m\u001b[38;5;124m(.*?)\u001b[39m\u001b[38;5;124m\"\u001b[39m\u001b[38;5;124m pos=\u001b[39m\u001b[38;5;124m\"\u001b[39m\u001b[38;5;124m.*?\u001b[39m\u001b[38;5;124m\"\u001b[39m\u001b[38;5;124m>(.*?)</w>\u001b[39m\u001b[38;5;124m'\u001b[39m, line)\n\u001b[1;32m----> 8\u001b[0m             \u001b[38;5;28;01mreturn\u001b[39;00m (\u001b[43mmatch\u001b[49m\u001b[43m[\u001b[49m\u001b[38;5;241;43m0\u001b[39;49m\u001b[43m]\u001b[49m[\u001b[38;5;241m2\u001b[39m]\u001b[38;5;241m.\u001b[39mstrip(), match[\u001b[38;5;241m0\u001b[39m][\u001b[38;5;241m0\u001b[39m]\u001b[38;5;241m.\u001b[39mupper(), match[\u001b[38;5;241m0\u001b[39m][\u001b[38;5;241m1\u001b[39m]) \u001b[38;5;66;03m# lemma, tag, word\u001b[39;00m\n\u001b[0;32m      9\u001b[0m \u001b[38;5;66;03m#         return ('<s> ', '<s>', '<s>') \u001b[39;00m\n\u001b[0;32m     10\u001b[0m     \u001b[38;5;28;01melif\u001b[39;00m line\u001b[38;5;241m.\u001b[39mstartswith(\u001b[38;5;124m'\u001b[39m\u001b[38;5;124m</s\u001b[39m\u001b[38;5;124m'\u001b[39m):\n",
      "\u001b[1;31mIndexError\u001b[0m: list index out of range"
     ]
    }
   ],
   "source": [
    "def word_to_bigram(wordfile, bigramfile):\n",
    "    \n",
    "    def Batch_to_ngram(batch, fileout):        \n",
    "        with open(wordfile.format(batch),'r',encoding=\"utf-8\") as filein:\n",
    "            lines = filein.readlines()\n",
    "            for i, line in enumerate(lines):\n",
    "                if line.startswith('<s'):\n",
    "                    sent_start = i\n",
    "                elif line.startswith('</s'):\n",
    "                    sentence = [line.strip() for line in lines[sent_start:i+1]]\n",
    "                    tokens = [line_to_token(line) for line in sentence ]\n",
    "                    #pprint (tokens)\n",
    "                    bigram = tokens_to_bigram(tokens)\n",
    "                    print('\\n'.join(bigram), file=fileout)\n",
    "    \n",
    "    with open(bigramfile, 'w',encoding=\"utf-8\") as fileout:\n",
    "        for batch in 'A':\n",
    "            Batch_to_ngram(batch, fileout)\n",
    "                \n",
    "word_to_bigram('BNC.{0}.txt', 'BNC.2w.txt')"
   ]
  },
  {
   "cell_type": "markdown",
   "id": "1eadce87",
   "metadata": {
    "id": "1eadce87"
   },
   "source": [
    "### 3 Sort and count bigram (word1 word2 \\<tab\\> count) "
   ]
  },
  {
   "cell_type": "code",
   "execution_count": null,
   "id": "b268aac8",
   "metadata": {
    "id": "b268aac8",
    "outputId": "20af1767-a0b3-429c-9b1b-d8dac6a33110",
    "scrolled": true
   },
   "outputs": [
    {
     "name": "stdout",
     "output_type": "stream",
     "text": [
      "sort: No such file or directory\r\n",
      "sort BNC.B.2w.txt  0.00s user 0.00s system 54% cpu 0.005 total\r\n",
      "uniq -c  0.00s user 0.00s system 49% cpu 0.004 total\r\n",
      "awk '{ gsub(/^[ ]*/, \"\"); print }'  0.00s user 0.00s system 49% cpu 0.004 total\r\n",
      "awk '{print substr($0, index($0, \" \")+1) \"\\t\" $1}'  0.00s user 0.00s system 52% cpu 0.004 total\r\n",
      "egrep -v '\\t1$' > BNC.B.2w.c2+.txt  0.00s user 0.00s system 56% cpu 0.003 total\r\n"
     ]
    }
   ],
   "source": [
    "#1 BNC.2w.txt ==> BNC.2w.c.txt\n",
    "! time sort BNC.2w.txt | uniq -c | \\\n",
    "awk '{ gsub(/^[ ]*/, \"\"); print }' | awk '{print substr($0, index($0, \" \")+1) \"\\t\" $1}' > BNC.2w.c.txt"
   ]
  },
  {
   "cell_type": "code",
   "execution_count": null,
   "id": "12341e3c",
   "metadata": {
    "id": "12341e3c",
    "outputId": "6819ee0e-7a6e-4495-ab9c-6d23225695fc"
   },
   "outputs": [
    {
     "name": "stdout",
     "output_type": "stream",
     "text": [
      "big accident\tAJ0 NN1\tbig accident\t3\n",
      "fatal accident\tAJ0 NN1\tfatal accident\t82\n",
      "fatal accident\taj0 NN1\tfatal accident\t3\n",
      "serious accident\tAJ0 NN1\tserious accident\t61\n"
     ]
    }
   ],
   "source": [
    "! egrep '^(big|serious|fatal) accident\\t' BNC.2w.c.txt"
   ]
  },
  {
   "cell_type": "markdown",
   "id": "4y3_Vuf3NBlS",
   "metadata": {
    "id": "4y3_Vuf3NBlS"
   },
   "source": [
    "Target output:  \n",
    "https://drive.google.com/file/d/1xM46aaDIeu4Z0FkikGOcmDoq7u2O47tY/view?usp=sharing"
   ]
  },
  {
   "cell_type": "code",
   "execution_count": null,
   "id": "fvWU9t9GNZhP",
   "metadata": {
    "id": "fvWU9t9GNZhP"
   },
   "outputs": [],
   "source": []
  }
 ],
 "metadata": {
  "colab": {
   "collapsed_sections": [],
   "provenance": []
  },
  "kernelspec": {
   "display_name": "Python 3 (ipykernel)",
   "language": "python",
   "name": "python3"
  },
  "language_info": {
   "codemirror_mode": {
    "name": "ipython",
    "version": 3
   },
   "file_extension": ".py",
   "mimetype": "text/x-python",
   "name": "python",
   "nbconvert_exporter": "python",
   "pygments_lexer": "ipython3",
   "version": "3.9.12"
  }
 },
 "nbformat": 4,
 "nbformat_minor": 5
}
