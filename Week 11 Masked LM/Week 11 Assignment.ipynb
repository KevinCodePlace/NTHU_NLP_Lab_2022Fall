{
  "cells": [
    {
      "cell_type": "markdown",
      "id": "f8d9f6f3",
      "metadata": {
        "id": "f8d9f6f3"
      },
      "source": [
        "## WSD using BERT Masked Language Model\n",
        "This notebook explores the a part of the idea proposed by Ajit Rakasekharan in his blog post \n",
        "[Examining BERT raw embeddings.](https://towardsdatascience.com/examining-berts-raw-embeddings-fd905cb22df7) \n",
        "\n",
        "The idea is that examining the predictions of a masked language model for a masked ambiguous word can yield insights into the semantic meaning of the ambiguous word.\n",
        "\n",
        "We use the HuggingFace BERT for Masked LM with weights from a bert-base-cased pre-trained model for our experiment.\n",
        "\n",
        "We mask the ambiguous word (here we have used bank for our test) in sentences, and then send them through a BERT MLM model. Output is an array of logits for each position of the input sequence. So assuming a sentence with T tokens and a vocabulary size of V, the predictions of the MLM is (1, T, V) where 1 is the batch size (1 input sentence at a time in our experiment).\n",
        "\n",
        "In order to find the top k predictions, the logits for the masked position is softmaxed and the top k values chosen.\n",
        "\n"
      ]
    },
    {
      "cell_type": "markdown",
      "id": "5ef418b6",
      "metadata": {
        "id": "5ef418b6"
      },
      "source": [
        "## Prepare your environment\n",
        "\n",
        "As always, we highly recommend that you install all packages with a virtual environment manager, like [venv](https://packaging.python.org/en/latest/guides/installing-using-pip-and-virtual-environments/) or [conda](https://docs.conda.io/projects/conda/en/latest/user-guide/getting-started.html), to prevent version conflicts of different packages.  "
      ]
    },
    {
      "cell_type": "markdown",
      "id": "c35f05d0",
      "metadata": {
        "id": "c35f05d0"
      },
      "source": [
        "### Masked LM Model and Tokenizer \n",
        "[tutorial](https://huggingface.co/docs/transformers/tasks/language_modeling)  \n",
        "Task is to predict words that are masked using BERT, so we will use BERTMaskedLM model and BERTTokenizer and use the pre-trained bert-base-uncased model."
      ]
    },
    {
      "cell_type": "code",
      "source": [
        "!pip install transformers"
      ],
      "metadata": {
        "colab": {
          "base_uri": "https://localhost:8080/"
        },
        "id": "Brwl70K2_h72",
        "outputId": "5cd5d891-18d0-49b6-ed5f-9b159acf138d"
      },
      "id": "Brwl70K2_h72",
      "execution_count": null,
      "outputs": [
        {
          "output_type": "stream",
          "name": "stdout",
          "text": [
            "Looking in indexes: https://pypi.org/simple, https://us-python.pkg.dev/colab-wheels/public/simple/\n",
            "Collecting transformers\n",
            "  Downloading transformers-4.24.0-py3-none-any.whl (5.5 MB)\n",
            "\u001b[K     |████████████████████████████████| 5.5 MB 7.0 MB/s \n",
            "\u001b[?25hCollecting tokenizers!=0.11.3,<0.14,>=0.11.1\n",
            "  Downloading tokenizers-0.13.2-cp38-cp38-manylinux_2_17_x86_64.manylinux2014_x86_64.whl (7.6 MB)\n",
            "\u001b[K     |████████████████████████████████| 7.6 MB 57.6 MB/s \n",
            "\u001b[?25hCollecting huggingface-hub<1.0,>=0.10.0\n",
            "  Downloading huggingface_hub-0.11.1-py3-none-any.whl (182 kB)\n",
            "\u001b[K     |████████████████████████████████| 182 kB 55.8 MB/s \n",
            "\u001b[?25hRequirement already satisfied: packaging>=20.0 in /usr/local/lib/python3.8/dist-packages (from transformers) (21.3)\n",
            "Requirement already satisfied: regex!=2019.12.17 in /usr/local/lib/python3.8/dist-packages (from transformers) (2022.6.2)\n",
            "Requirement already satisfied: filelock in /usr/local/lib/python3.8/dist-packages (from transformers) (3.8.0)\n",
            "Requirement already satisfied: tqdm>=4.27 in /usr/local/lib/python3.8/dist-packages (from transformers) (4.64.1)\n",
            "Requirement already satisfied: numpy>=1.17 in /usr/local/lib/python3.8/dist-packages (from transformers) (1.21.6)\n",
            "Requirement already satisfied: requests in /usr/local/lib/python3.8/dist-packages (from transformers) (2.23.0)\n",
            "Requirement already satisfied: pyyaml>=5.1 in /usr/local/lib/python3.8/dist-packages (from transformers) (6.0)\n",
            "Requirement already satisfied: typing-extensions>=3.7.4.3 in /usr/local/lib/python3.8/dist-packages (from huggingface-hub<1.0,>=0.10.0->transformers) (4.1.1)\n",
            "Requirement already satisfied: pyparsing!=3.0.5,>=2.0.2 in /usr/local/lib/python3.8/dist-packages (from packaging>=20.0->transformers) (3.0.9)\n",
            "Requirement already satisfied: certifi>=2017.4.17 in /usr/local/lib/python3.8/dist-packages (from requests->transformers) (2022.9.24)\n",
            "Requirement already satisfied: urllib3!=1.25.0,!=1.25.1,<1.26,>=1.21.1 in /usr/local/lib/python3.8/dist-packages (from requests->transformers) (1.24.3)\n",
            "Requirement already satisfied: idna<3,>=2.5 in /usr/local/lib/python3.8/dist-packages (from requests->transformers) (2.10)\n",
            "Requirement already satisfied: chardet<4,>=3.0.2 in /usr/local/lib/python3.8/dist-packages (from requests->transformers) (3.0.4)\n",
            "Installing collected packages: tokenizers, huggingface-hub, transformers\n",
            "Successfully installed huggingface-hub-0.11.1 tokenizers-0.13.2 transformers-4.24.0\n"
          ]
        }
      ]
    },
    {
      "cell_type": "code",
      "execution_count": null,
      "id": "2c548bc5",
      "metadata": {
        "id": "2c548bc5"
      },
      "outputs": [],
      "source": [
        "import pandas as pd\n",
        "import torch\n",
        "from transformers import BertTokenizer, BertForMaskedLM"
      ]
    },
    {
      "cell_type": "code",
      "execution_count": null,
      "id": "e9ddf0c1",
      "metadata": {
        "colab": {
          "base_uri": "https://localhost:8080/",
          "height": 197,
          "referenced_widgets": [
            "07beec82eb774d2686d637c33a823a30",
            "8fee7c1457234289a4ec9ca0ec094747",
            "d685e13f67bc42e0adc38e4c6a069719",
            "81f8c3b5de314dcf95cc800a1e337aaa",
            "67098cd9743e4b8699a7970bf6b96719",
            "3c16a78c7bda41ffba090c575c5f9437",
            "cd03ce6e0a57474d86b2b33ae7eb81f9",
            "eb6b732c189d4837b46a57bf0f9d0b27",
            "80919007378a4cd383cd9e681a83d51e",
            "5561f84ec14540b080b5b6f2f0287e02",
            "8ede47301ac5494c80a49e8848e4ad2e",
            "97dab44a4bea436f9568da10197f74d8",
            "5a09a4d075924150b89c0fcb86440faa",
            "15852b2b20bd4c989ee05421861c65da",
            "39514966d29248448e09cb16bdf9f133",
            "b51cfa26de804cdba2695da55de6efe6",
            "b73bbfbe98444e7cadf606d9c3da7be4",
            "de627fcc43724e559968901fb2b6196e",
            "cd70639b069c4727a2deb57121dfd635",
            "ef6322938e4347e79ccc5a58f88629d0",
            "0610b1a0cc094cf497ec79868ff03b07",
            "a926644b214d45cca06977b2b073f027",
            "68419feee124463fa1d19350aac053d5",
            "56bae885423c4551b65aaec190a87479",
            "b928eba6f9e9436aa859690cfbc52a34",
            "360245586cec4eb68ac5f694ec150e4e",
            "e55bdc622f634370b04d92546065ae3e",
            "6732eea9fe854f13b7520c13c4476995",
            "1c5b967c65594383a990e8c9503578f3",
            "61dbfb15b5ca4f1d8810da72f5224607",
            "60092eeb4b574a91a9d405532e0f2a9e",
            "a70e7a776ca8440fa0db2eb3aa1602f6",
            "1602a9c249d643a49f90d868641aa30c",
            "2acb1da20ed54f038cb2b5c67edf140e",
            "1bcc732baa174d5dae7a7f700096c82d",
            "90d028cc424f493b9f93348f17001f3e",
            "e52c3e82304448d28bfe29096c2fb958",
            "d9a0654b940b46f880164ce2c987182c",
            "436c95f97cc345c28231e7fad115b7d1",
            "c79886f88d18414ea6842eeea6e17ce1",
            "267115b14588414ebc15519ab1b1633f",
            "a148ab8f228c4da0984bcb9b3284e3ac",
            "574e44d2cf994ccf8c596753708b01f4",
            "37ce4fe791c645739523ec7df5eab101"
          ]
        },
        "id": "e9ddf0c1",
        "outputId": "52bd62e6-9a96-4efc-e771-b65fac819851"
      },
      "outputs": [
        {
          "output_type": "display_data",
          "data": {
            "text/plain": [
              "Downloading:   0%|          | 0.00/213k [00:00<?, ?B/s]"
            ],
            "application/vnd.jupyter.widget-view+json": {
              "version_major": 2,
              "version_minor": 0,
              "model_id": "07beec82eb774d2686d637c33a823a30"
            }
          },
          "metadata": {}
        },
        {
          "output_type": "display_data",
          "data": {
            "text/plain": [
              "Downloading:   0%|          | 0.00/29.0 [00:00<?, ?B/s]"
            ],
            "application/vnd.jupyter.widget-view+json": {
              "version_major": 2,
              "version_minor": 0,
              "model_id": "97dab44a4bea436f9568da10197f74d8"
            }
          },
          "metadata": {}
        },
        {
          "output_type": "display_data",
          "data": {
            "text/plain": [
              "Downloading:   0%|          | 0.00/570 [00:00<?, ?B/s]"
            ],
            "application/vnd.jupyter.widget-view+json": {
              "version_major": 2,
              "version_minor": 0,
              "model_id": "68419feee124463fa1d19350aac053d5"
            }
          },
          "metadata": {}
        },
        {
          "output_type": "display_data",
          "data": {
            "text/plain": [
              "Downloading:   0%|          | 0.00/436M [00:00<?, ?B/s]"
            ],
            "application/vnd.jupyter.widget-view+json": {
              "version_major": 2,
              "version_minor": 0,
              "model_id": "2acb1da20ed54f038cb2b5c67edf140e"
            }
          },
          "metadata": {}
        },
        {
          "output_type": "stream",
          "name": "stderr",
          "text": [
            "Some weights of the model checkpoint at bert-base-cased were not used when initializing BertForMaskedLM: ['cls.seq_relationship.weight', 'cls.seq_relationship.bias']\n",
            "- This IS expected if you are initializing BertForMaskedLM from the checkpoint of a model trained on another task or with another architecture (e.g. initializing a BertForSequenceClassification model from a BertForPreTraining model).\n",
            "- This IS NOT expected if you are initializing BertForMaskedLM from the checkpoint of a model that you expect to be exactly identical (initializing a BertForSequenceClassification model from a BertForSequenceClassification model).\n"
          ]
        }
      ],
      "source": [
        "tokenizer = BertTokenizer.from_pretrained('bert-base-cased')\n",
        "model = BertForMaskedLM.from_pretrained('bert-base-cased', return_dict=True)"
      ]
    },
    {
      "cell_type": "code",
      "source": [
        "from google.colab import drive\n",
        "drive.mount('/content/drive')"
      ],
      "metadata": {
        "colab": {
          "base_uri": "https://localhost:8080/"
        },
        "id": "3YoDzrFHyRGK",
        "outputId": "aec512be-7fc4-4f15-9266-c11c75b4b338"
      },
      "id": "3YoDzrFHyRGK",
      "execution_count": null,
      "outputs": [
        {
          "output_type": "stream",
          "name": "stdout",
          "text": [
            "Mounted at /content/drive\n"
          ]
        }
      ]
    },
    {
      "cell_type": "markdown",
      "id": "58bb19fe",
      "metadata": {
        "id": "58bb19fe"
      },
      "source": [
        "We are going to use the pre-trained BERT language model in inference mode only.\n",
        "\n",
        "The tokenizer tokenizes the input sequence and pads it with the [CLS] and [SEP] tokens.\n",
        "\n",
        "The output produced by the model has two components, loss and logits. The logits component has shape (1, number_of_tokens, vocab_size) where the leading 1 represents the single input sentence.\n",
        "\n",
        "We will identify the logits corresponding to the position of our masked token, identify the top 5 vocabulary words predicted for that position, and return the softmax probabilities for each of the top 5 predicted words."
      ]
    },
    {
      "cell_type": "code",
      "execution_count": null,
      "id": "88d39fad",
      "metadata": {
        "id": "88d39fad"
      },
      "outputs": [],
      "source": [
        "inputs = tokenizer(\"The capital of France is [MASK].\", return_tensors=\"pt\")\n",
        "outputs = model(**inputs)"
      ]
    },
    {
      "cell_type": "code",
      "execution_count": null,
      "id": "9f0553c9",
      "metadata": {
        "colab": {
          "base_uri": "https://localhost:8080/"
        },
        "id": "9f0553c9",
        "outputId": "0675f4a3-36d5-43cf-bfdf-edd2c9f1770d"
      },
      "outputs": [
        {
          "output_type": "execute_result",
          "data": {
            "text/plain": [
              "['[CLS]', 'The', 'capital', 'of', 'France', 'is', '[MASK]', '.', '[SEP]']"
            ]
          },
          "metadata": {},
          "execution_count": 6
        }
      ],
      "source": [
        "tokenizer.convert_ids_to_tokens(inputs.input_ids[0])\n"
      ]
    },
    {
      "cell_type": "code",
      "execution_count": null,
      "id": "4e6db335",
      "metadata": {
        "colab": {
          "base_uri": "https://localhost:8080/"
        },
        "id": "4e6db335",
        "outputId": "a83a1a2b-7ee6-4678-d5ab-dbcf19fc89f7"
      },
      "outputs": [
        {
          "output_type": "execute_result",
          "data": {
            "text/plain": [
              "MaskedLMOutput(loss=None, logits=tensor([[[ -7.1545,  -6.9931,  -7.1826,  ...,  -5.9124,  -5.6733,  -5.9854],\n",
              "         [ -8.0190,  -8.1319,  -8.0509,  ...,  -6.5679,  -6.4058,  -6.8998],\n",
              "         [ -4.9772,  -6.1781,  -6.0669,  ...,  -5.6362,  -4.6603,  -5.1241],\n",
              "         ...,\n",
              "         [ -3.4420,  -3.2557,  -3.5733,  ...,  -2.4606,  -2.6495,  -3.1952],\n",
              "         [-10.5890, -10.4621, -11.7181,  ...,  -7.4646,  -9.9543,  -8.3927],\n",
              "         [-14.8900, -14.8873, -14.4569,  ..., -11.6588, -13.0151, -11.6073]]],\n",
              "       grad_fn=<ViewBackward0>), hidden_states=None, attentions=None)"
            ]
          },
          "metadata": {},
          "execution_count": 7
        }
      ],
      "source": [
        "outputs"
      ]
    },
    {
      "cell_type": "code",
      "execution_count": null,
      "id": "0433441f",
      "metadata": {
        "colab": {
          "base_uri": "https://localhost:8080/"
        },
        "id": "0433441f",
        "outputId": "ab3a7897-ee28-4394-9402-9673cf6445c6"
      },
      "outputs": [
        {
          "output_type": "execute_result",
          "data": {
            "text/plain": [
              "6"
            ]
          },
          "metadata": {},
          "execution_count": 8
        }
      ],
      "source": [
        "def get_mask_index(input_ids, tokenizer):\n",
        "    x = input_ids[0]\n",
        "    is_masked = torch.where(x == tokenizer.mask_token_id, x, 0)\n",
        "    mask_idx = torch.nonzero(is_masked)\n",
        "    return mask_idx.item()\n",
        "\n",
        "mask_idx = get_mask_index(inputs.input_ids, tokenizer)\n",
        "mask_idx"
      ]
    },
    {
      "cell_type": "code",
      "execution_count": null,
      "id": "5192f8b0",
      "metadata": {
        "colab": {
          "base_uri": "https://localhost:8080/"
        },
        "id": "5192f8b0",
        "outputId": "639fb5b9-3eb8-4f1f-8a44-99445b7c6095"
      },
      "outputs": [
        {
          "output_type": "execute_result",
          "data": {
            "text/plain": [
              "[('Paris', 44.46818828582764),\n",
              " ('Lyon', 9.396008402109146),\n",
              " ('Toulouse', 8.23453962802887),\n",
              " ('Lille', 7.515150308609009),\n",
              " ('Marseille', 5.692291632294655)]"
            ]
          },
          "metadata": {},
          "execution_count": 9
        }
      ],
      "source": [
        "def get_top_k_predictions(pred_logits, mask_idx, top_k):\n",
        "    probs = torch.nn.functional.softmax(pred_logits[0, mask_idx, :], dim=-1)\n",
        "    top_k_weights, top_k_indices = torch.topk(probs, top_k, sorted=True)\n",
        "    top_k_pct_weights = [100 * x.item() for x in top_k_weights]\n",
        "    top_k_tokens = tokenizer.convert_ids_to_tokens(top_k_indices)\n",
        "    return list(zip(top_k_tokens, top_k_pct_weights))\n",
        "\n",
        "\n",
        "get_top_k_predictions(outputs.logits, mask_idx, 5)"
      ]
    },
    {
      "cell_type": "markdown",
      "id": "2b101bd3",
      "metadata": {
        "id": "2b101bd3"
      },
      "source": [
        "### WSD Test Sentences\n",
        "We take our pair of sentences for disambiguating the word bank and mask them, and extract the top 20 predictions from the pre-trained BERT MLM model.\n",
        "\n",
        "As expected, the first set of predictions predominantly point to some sort of financial institution, whereas the second set of predictions predominantly point to some geographical formation around bodies of water."
      ]
    },
    {
      "cell_type": "code",
      "execution_count": null,
      "id": "d178f39c",
      "metadata": {
        "id": "d178f39c"
      },
      "outputs": [],
      "source": [
        "sentences = [\n",
        "  \"Go to the [MASK] and deposit your pay check.\",\n",
        "  \"Jim and Janet went down to the river [MASK] to admire the swans.\"\n",
        "]"
      ]
    },
    {
      "cell_type": "code",
      "execution_count": null,
      "id": "1f00b91c",
      "metadata": {
        "id": "1f00b91c"
      },
      "outputs": [],
      "source": [
        "def get_predictions(sentence, tokenizer, model):\n",
        "    inputs = tokenizer(sentence, return_tensors=\"pt\")\n",
        "    outputs = model(**inputs)\n",
        "    mask_idx = get_mask_index(inputs.input_ids, tokenizer)\n",
        "    top_preds = get_top_k_predictions(outputs.logits, mask_idx, 20)\n",
        "    return top_preds"
      ]
    },
    {
      "cell_type": "code",
      "execution_count": null,
      "id": "16805928",
      "metadata": {
        "id": "16805928",
        "outputId": "21fa8bf4-3b55-4f55-9446-ef95b00d7421",
        "colab": {
          "base_uri": "https://localhost:8080/"
        }
      },
      "outputs": [
        {
          "output_type": "execute_result",
          "data": {
            "text/plain": [
              "[('bank', 70.31395435333252),\n",
              " ('office', 10.280592739582062),\n",
              " ('register', 1.7452014610171318),\n",
              " ('store', 1.628476195037365),\n",
              " ('bathroom', 0.9394762106239796),\n",
              " ('library', 0.8934843353927135),\n",
              " ('desk', 0.8724356070160866),\n",
              " ('counter', 0.7977331057190895),\n",
              " ('hotel', 0.5163723137229681),\n",
              " ('lobby', 0.49569709226489067),\n",
              " ('kitchen', 0.3637074725702405),\n",
              " ('garage', 0.34799198620021343),\n",
              " ('door', 0.3412732621654868),\n",
              " ('car', 0.33113667741417885),\n",
              " ('house', 0.26490529999136925),\n",
              " ('airport', 0.25470301043242216),\n",
              " ('elevator', 0.2491131192073226),\n",
              " ('back', 0.24807637091726065),\n",
              " ('computer', 0.24019568227231503),\n",
              " ('banks', 0.2349143149331212)]"
            ]
          },
          "metadata": {},
          "execution_count": 12
        }
      ],
      "source": [
        "get_predictions(sentences[0], tokenizer, model)"
      ]
    },
    {
      "cell_type": "code",
      "execution_count": null,
      "id": "b2c01c47",
      "metadata": {
        "id": "b2c01c47",
        "outputId": "7bf2828d-c4bc-4674-caed-a7f2da136243",
        "colab": {
          "base_uri": "https://localhost:8080/"
        }
      },
      "outputs": [
        {
          "output_type": "execute_result",
          "data": {
            "text/plain": [
              "[('##bank', 32.602110505104065),\n",
              " ('below', 13.03199827671051),\n",
              " ('bank', 11.940895020961761),\n",
              " (',', 5.626505985856056),\n",
              " ('##boat', 3.1638897955417633),\n",
              " ('##front', 2.733229286968708),\n",
              " ('basin', 1.6210535541176796),\n",
              " ('##bed', 1.2178422883152962),\n",
              " ('together', 1.1841707862913609),\n",
              " ('bed', 0.9657179936766624),\n",
              " ('again', 0.8369828574359417),\n",
              " ('deck', 0.8356167003512383),\n",
              " ('valley', 0.7271416950970888),\n",
              " ('mouth', 0.7227536290884018),\n",
              " ('boat', 0.7151056081056595),\n",
              " ('pier', 0.6493288092315197),\n",
              " ('house', 0.6301583256572485),\n",
              " ('banks', 0.5700568202883005),\n",
              " ('pool', 0.5345712415874004),\n",
              " ('Thames', 0.4995541647076607)]"
            ]
          },
          "metadata": {},
          "execution_count": 13
        }
      ],
      "source": [
        "get_predictions(sentences[1], tokenizer, model)"
      ]
    },
    {
      "cell_type": "markdown",
      "id": "70a23034",
      "metadata": {
        "id": "70a23034"
      },
      "source": [
        "## Assignment\n",
        "In this week's assignment, you are tasked with processing SemCor data and feed the data into BERT masked-LM. After that, use the predictions to find the most likely sense of the target word using WordNet similarity."
      ]
    },
    {
      "cell_type": "markdown",
      "id": "6a5627e5",
      "metadata": {
        "id": "6a5627e5"
      },
      "source": [
        "### Data Preprocessing \n",
        "You can find a sample of SemCor dataset [here](https://drive.google.com/file/d/1inmv3rUcGrtiS4VQwTMsT9HF-iL8jc5V/view?usp=sharing) and load the data using the following methods."
      ]
    },
    {
      "cell_type": "code",
      "execution_count": null,
      "id": "099c2d6d",
      "metadata": {
        "id": "099c2d6d"
      },
      "outputs": [],
      "source": [
        "import json\n",
        "from nltk.stem import WordNetLemmatizer\n",
        "from nltk.corpus import wordnet as wn\n",
        "sents = []\n",
        "tokens = []\n",
        "wn_id = []\n",
        "lemmatizer = WordNetLemmatizer()\n",
        "\n",
        "with open('/content/drive/MyDrive/graduate/nlp/week11/semcor.sample.jsonl') as f:\n",
        "    for line in f:\n",
        "        data = json.loads(line)\n",
        "        sents.append(data['sent'])\n",
        "        tokens.append(data['tokens'])\n",
        "        wn_id.append(data['wnid'])\n"
      ]
    },
    {
      "cell_type": "code",
      "execution_count": null,
      "id": "aa495af3",
      "metadata": {
        "id": "aa495af3",
        "outputId": "f80ed2cc-f555-4d72-c9ec-9290acae24d4",
        "colab": {
          "base_uri": "https://localhost:8080/"
        }
      },
      "outputs": [
        {
          "output_type": "stream",
          "name": "stdout",
          "text": [
            "implementation of georgia 's automobile title law was also recommended by the outgoing jury . \n",
            "['implementation', 'of', 'georgia', \"'s\", 'automobile', 'title', 'law', 'was', 'also', 'recommended', 'by', 'the', 'outgoing', 'jury', '.']\n",
            "['implementation%1:04:01::', 0, 'georgia%1:15:00::', 0, 'automobile%1:06:00::', 'title%1:10:04::', 'law%1:10:00::', 0, 'also%4:02:00::', 'recommend%2:32:01::', 0, 0, 'outgoing%3:00:00::', 'jury%1:14:00::', 0]\n"
          ]
        }
      ],
      "source": [
        "print(sents[10])\n",
        "print(tokens[10])\n",
        "print(wn_id[10])"
      ]
    },
    {
      "cell_type": "code",
      "source": [
        "import nltk\n",
        "nltk.download('wordnet')\n",
        "nltk.download('omw-1.4')"
      ],
      "metadata": {
        "colab": {
          "base_uri": "https://localhost:8080/"
        },
        "id": "bD2UesYFAmXy",
        "outputId": "35d23c50-70b3-473f-84b5-989dd8c34582"
      },
      "id": "bD2UesYFAmXy",
      "execution_count": null,
      "outputs": [
        {
          "output_type": "stream",
          "name": "stderr",
          "text": [
            "[nltk_data] Downloading package wordnet to /root/nltk_data...\n",
            "[nltk_data] Downloading package omw-1.4 to /root/nltk_data...\n"
          ]
        },
        {
          "output_type": "execute_result",
          "data": {
            "text/plain": [
              "True"
            ]
          },
          "metadata": {},
          "execution_count": 16
        }
      ]
    },
    {
      "cell_type": "code",
      "execution_count": null,
      "id": "14229b69",
      "metadata": {
        "id": "14229b69",
        "outputId": "7c7a72e2-04db-4bcd-8b62-d7e22074c79f",
        "colab": {
          "base_uri": "https://localhost:8080/"
        }
      },
      "outputs": [
        {
          "output_type": "execute_result",
          "data": {
            "text/plain": [
              "Lemma('execution.n.06.implementation')"
            ]
          },
          "metadata": {},
          "execution_count": 17
        }
      ],
      "source": [
        "# The WordNet ID can be converted to NLTK Lemma using the following function\n",
        "\n",
        "wn.lemma_from_key('implementation%1:04:01::')"
      ]
    },
    {
      "cell_type": "markdown",
      "id": "1fac4dbe",
      "metadata": {
        "id": "1fac4dbe"
      },
      "source": [
        "### TODO \n",
        "Please implement a method to convert the data to BERT Masked-LM format and keep track of the headword. Store the data into the following lists\n",
        "\n",
        "word[i] = 'implementation'  \n",
        "ground_truth[i] = 'implementation%1:04:01::'  \n",
        "sent[i] = \"[MASK] of georgia 's automobile title law was also recommended by the outgoing jury .\"  \n",
        "\n"
      ]
    },
    {
      "cell_type": "code",
      "source": [
        "sent_ex = \"I saw a huge saw in a saw\"\n",
        "token_ex =['I','saw','a','huge','saw','in','a','saw']\n",
        "tags_ex = [0,'saw%2:32:00::',0,'huge%2:32:00::','saw%2:32:00::',0,0,'saw%2:32:00::']\n",
        "\n",
        "star_str = sent_ex\n",
        "print(sent_ex)\n",
        "print('--------------')\n",
        "for index, tags in enumerate(tags_ex):\n",
        "  if tags != 0:\n",
        "    start_pos = star_str.index(token_ex[index])\n",
        "    end_pos = start_pos + len(token_ex[index])\n",
        "    new_str = sent_ex[:start_pos] + '[mask]' + sent_ex[end_pos:]\n",
        "    star_str = star_str[:start_pos] + '*' * len(token_ex[index]) + star_str[end_pos:]\n",
        "    print('start_pos:',start_pos,' end_pos:',end_pos)\n",
        "    print(new_str)\n",
        "    print(star_str)\n",
        "    print('------------')"
      ],
      "metadata": {
        "colab": {
          "base_uri": "https://localhost:8080/"
        },
        "id": "tpak11sHhERw",
        "outputId": "aa437da3-3c46-41d8-98d6-3f02447dba9f"
      },
      "id": "tpak11sHhERw",
      "execution_count": null,
      "outputs": [
        {
          "output_type": "stream",
          "name": "stdout",
          "text": [
            "I saw a huge saw in a saw\n",
            "--------------\n",
            "start_pos: 2  end_pos: 5\n",
            "I [mask] a huge saw in a saw\n",
            "I *** a huge saw in a saw\n",
            "------------\n",
            "start_pos: 8  end_pos: 12\n",
            "I saw a [mask] saw in a saw\n",
            "I *** a **** saw in a saw\n",
            "------------\n",
            "start_pos: 13  end_pos: 16\n",
            "I saw a huge [mask] in a saw\n",
            "I *** a **** *** in a saw\n",
            "------------\n",
            "start_pos: 22  end_pos: 25\n",
            "I saw a huge saw in a [mask]\n",
            "I *** a **** *** in a ***\n",
            "------------\n"
          ]
        }
      ]
    },
    {
      "cell_type": "code",
      "source": [
        "mask_token = []\n",
        "ground_truth = []\n",
        "sent = []\n",
        "\n",
        "count = 0\n",
        "\n",
        "for sentence,token,tags in zip(sents,tokens,wn_id):\n",
        "  sent_replace_with_star = sentence\n",
        "  for index, sense in enumerate(tags):\n",
        "    if sense != 0:\n",
        "      start_pos = sent_replace_with_star.index(token[index])\n",
        "      end_pos = start_pos + len(token[index])\n",
        "      mask_sent = sentence[:start_pos] + '[MASK]' + sentence[end_pos:]\n",
        "      sent_replace_with_star = sent_replace_with_star[:start_pos] + '*' * len(token[index]) + sent_replace_with_star[end_pos:]\n",
        "      mask_token.append(token[index])\n",
        "      ground_truth.append(sense)\n",
        "      sent.append(mask_sent)"
      ],
      "metadata": {
        "id": "8JByzfJDJS1J"
      },
      "id": "8JByzfJDJS1J",
      "execution_count": null,
      "outputs": []
    },
    {
      "cell_type": "code",
      "source": [
        "print(mask_token[:3])\n",
        "print(len(mask_token))\n",
        "print(ground_truth[:3])\n",
        "print(len(ground_truth))\n",
        "print(sent[:3])\n",
        "print(len(sent))"
      ],
      "metadata": {
        "colab": {
          "base_uri": "https://localhost:8080/"
        },
        "id": "VFgtnNlw5qWz",
        "outputId": "4e69453d-b456-48d5-de06-c972f1b26e5d"
      },
      "id": "VFgtnNlw5qWz",
      "execution_count": null,
      "outputs": [
        {
          "output_type": "stream",
          "name": "stdout",
          "text": [
            "['said', 'friday', 'investigation']\n",
            "1042\n",
            "['say%2:32:00::', 'friday%1:28:00::', 'investigation%1:09:00::']\n",
            "1042\n",
            "['the fulton_county_grand_jury [MASK] friday an investigation of atlanta \\'s recent primary_election produced \" no evidence \" that any irregularities took_place . ', 'the fulton_county_grand_jury said [MASK] an investigation of atlanta \\'s recent primary_election produced \" no evidence \" that any irregularities took_place . ', 'the fulton_county_grand_jury said friday an [MASK] of atlanta \\'s recent primary_election produced \" no evidence \" that any irregularities took_place . ']\n",
            "1042\n"
          ]
        }
      ]
    },
    {
      "cell_type": "markdown",
      "id": "6e011450",
      "metadata": {
        "id": "6e011450"
      },
      "source": [
        "#### Identify the top 5 predictions other than the headword using Masked-LM \n",
        "1. Use get_predictions to get the predicted words\n",
        "2. Use lemmatizer to lemmatize the prediction\n",
        "3. Remove headword\n",
        "4. Keep top 5 unique predictions"
      ]
    },
    {
      "cell_type": "code",
      "source": [
        "def get_mask_index(input_ids, tokenizer):\n",
        "    x = input_ids[0]\n",
        "    is_masked = torch.where(x == tokenizer.mask_token_id, x, 0)\n",
        "    mask_idx = torch.nonzero(is_masked)\n",
        "    return mask_idx.item()\n",
        "\n",
        "def get_top_k_predictions(pred_logits, mask_idx, top_k):\n",
        "    probs = torch.nn.functional.softmax(pred_logits[0, mask_idx, :], dim=-1)\n",
        "    top_k_weights, top_k_indices = torch.topk(probs, top_k, sorted=True)\n",
        "    top_k_pct_weights = [100 * x.item() for x in top_k_weights]\n",
        "    top_k_tokens = tokenizer.convert_ids_to_tokens(top_k_indices)\n",
        "    return list(zip(top_k_tokens, top_k_pct_weights))\n",
        "\n",
        "def get_predictions(sentence, tokenizer, model):\n",
        "    inputs = tokenizer(sentence, return_tensors=\"pt\")\n",
        "    outputs = model(**inputs)\n",
        "    mask_idx = get_mask_index(inputs.input_ids, tokenizer)\n",
        "    top_preds = get_top_k_predictions(outputs.logits, mask_idx, 20)\n",
        "    return top_preds"
      ],
      "metadata": {
        "id": "yMntTb8v7A_b"
      },
      "id": "yMntTb8v7A_b",
      "execution_count": null,
      "outputs": []
    },
    {
      "cell_type": "code",
      "source": [
        "import string\n",
        "\n",
        "candidate = []\n",
        "candidate_lemmas = []\n",
        "pred_words_with_score = {}\n",
        "for index,sentence in enumerate(sent):\n",
        "  predict_words = get_predictions(sentence, tokenizer, model)\n",
        "  for predict_word in predict_words:\n",
        "    if predict_word[0] != mask_token[index] and predict_word[0] not in string.punctuation:\n",
        "      pred_word_lemma = lemmatizer.lemmatize(predict_word[0])\n",
        "      if pred_word_lemma not in pred_words_with_score:\n",
        "        pred_words_with_score[pred_word_lemma] = predict_word[1]\n",
        "      else:\n",
        "        new_score = pred_words_with_score[pred_word_lemma] + predict_word[1]\n",
        "        pred_words_with_score.update({pred_word_lemma: new_score})\n",
        "  sorted_pred_words_with_score = sorted(pred_words_with_score.items(), key=lambda x:x[1],reverse=True)\n",
        "  \n",
        "  for candidate_length,(word,value) in enumerate(sorted_pred_words_with_score):\n",
        "    if candidate_length >= 5:\n",
        "      break\n",
        "    candidate.append(word)\n",
        "  candidate_lemmas.append(candidate)\n",
        "  candidate = []\n",
        "  pred_words_with_score = {}\n",
        "\n",
        "\n",
        "len(candidate_lemmas)\n",
        "\n"
      ],
      "metadata": {
        "colab": {
          "base_uri": "https://localhost:8080/"
        },
        "id": "C6qzzlGHa2bs",
        "outputId": "324df296-eac5-46b4-bde3-a9edb343319b"
      },
      "id": "C6qzzlGHa2bs",
      "execution_count": null,
      "outputs": [
        {
          "output_type": "execute_result",
          "data": {
            "text/plain": [
              "1042"
            ]
          },
          "metadata": {},
          "execution_count": 22
        }
      ]
    },
    {
      "cell_type": "code",
      "source": [
        "for i in range(3):\n",
        "  print(sent[i])\n",
        "  print(mask_token[i])\n",
        "  print(ground_truth[i])\n",
        "  print(candidate_lemmas[i])\n",
        "  print('--------------------------')"
      ],
      "metadata": {
        "colab": {
          "base_uri": "https://localhost:8080/"
        },
        "id": "IXkFJeo0g6p8",
        "outputId": "9374f064-89a8-44e1-e4c3-8547b3cd787c"
      },
      "id": "IXkFJeo0g6p8",
      "execution_count": null,
      "outputs": [
        {
          "output_type": "stream",
          "name": "stdout",
          "text": [
            "the fulton_county_grand_jury [MASK] friday an investigation of atlanta 's recent primary_election produced \" no evidence \" that any irregularities took_place . \n",
            "said\n",
            "say%2:32:00::\n",
            "['found', 'reported', 'told', 'stated', 'announced']\n",
            "--------------------------\n",
            "the fulton_county_grand_jury said [MASK] an investigation of atlanta 's recent primary_election produced \" no evidence \" that any irregularities took_place . \n",
            "friday\n",
            "friday%1:28:00::\n",
            "['that', 'after', 'in', 'during', 'of']\n",
            "--------------------------\n",
            "the fulton_county_grand_jury said friday an [MASK] of atlanta 's recent primary_election produced \" no evidence \" that any irregularities took_place . \n",
            "investigation\n",
            "investigation%1:09:00::\n",
            "['analysis', 'examination', 'audit', 'evaluation', 'inspection']\n",
            "--------------------------\n"
          ]
        }
      ]
    },
    {
      "cell_type": "markdown",
      "id": "6b79a3c9",
      "metadata": {
        "id": "6b79a3c9"
      },
      "source": [
        "example:  \n",
        "candidate_lemmas = ['office', 'register', 'store', 'bathroom', 'library']\n"
      ]
    },
    {
      "cell_type": "markdown",
      "id": "c4bf3a95",
      "metadata": {
        "id": "c4bf3a95"
      },
      "source": [
        "Identify the most similar sense of headword with relation to the 5 unique candidates\n",
        "\n"
      ]
    },
    {
      "cell_type": "code",
      "execution_count": null,
      "id": "30c0dab8",
      "metadata": {
        "id": "30c0dab8",
        "colab": {
          "base_uri": "https://localhost:8080/"
        },
        "outputId": "421bc40e-c8ac-4a17-b57b-92876c99566f"
      },
      "outputs": [
        {
          "output_type": "execute_result",
          "data": {
            "text/plain": [
              "1042"
            ]
          },
          "metadata": {},
          "execution_count": 24
        }
      ],
      "source": [
        "from itertools import product\n",
        "headword_list = []\n",
        "candidate_word_list = []\n",
        "predicted_sense = []\n",
        "\n",
        "\n",
        "for idx,head_word in enumerate(mask_token):\n",
        "  headword_list = head_word.split()\n",
        "  candidate_word_list = candidate_lemmas[idx]\n",
        "\n",
        "  headword_syns = set(ss for word in headword_list for ss in wn.synsets(word))\n",
        "  candidate_word_syns = set(ss for word in candidate_word_list for ss in wn.synsets(word))  \n",
        "  try:\n",
        "    best = max((wn.wup_similarity(s1, s2) or 0, s1, s2) for s1, s2 in product(headword_syns, candidate_word_syns))\n",
        "    predicted_sense.append(best)\n",
        "  except:\n",
        "    predicted_sense.append('')\n",
        "  \n",
        "len(predicted_sense)"
      ]
    },
    {
      "cell_type": "code",
      "source": [
        "for i in range(3):\n",
        "  print(sent[i])\n",
        "  print(mask_token[i])\n",
        "  print(ground_truth[i])\n",
        "  print(candidate_lemmas[i])\n",
        "  print(predicted_sense[i])\n",
        "  print('--------------------------')\n",
        "\n",
        "  "
      ],
      "metadata": {
        "colab": {
          "base_uri": "https://localhost:8080/"
        },
        "id": "4K7fTfalnH5A",
        "outputId": "25a87300-078d-4c12-c4b8-90ccbfb3f071"
      },
      "id": "4K7fTfalnH5A",
      "execution_count": null,
      "outputs": [
        {
          "output_type": "stream",
          "name": "stdout",
          "text": [
            "the fulton_county_grand_jury [MASK] friday an investigation of atlanta 's recent primary_election produced \" no evidence \" that any irregularities took_place . \n",
            "said\n",
            "say%2:32:00::\n",
            "['found', 'reported', 'told', 'stated', 'announced']\n",
            "(1.0, Synset('state.v.01'), Synset('state.v.01'))\n",
            "--------------------------\n",
            "the fulton_county_grand_jury said [MASK] an investigation of atlanta 's recent primary_election produced \" no evidence \" that any irregularities took_place . \n",
            "friday\n",
            "friday%1:28:00::\n",
            "['that', 'after', 'in', 'during', 'of']\n",
            "(0.375, Synset('friday.n.01'), Synset('inch.n.01'))\n",
            "--------------------------\n",
            "the fulton_county_grand_jury said friday an [MASK] of atlanta 's recent primary_election produced \" no evidence \" that any irregularities took_place . \n",
            "investigation\n",
            "investigation%1:09:00::\n",
            "['analysis', 'examination', 'audit', 'evaluation', 'inspection']\n",
            "(0.9411764705882353, Synset('investigation.n.02'), Synset('examination.n.05'))\n",
            "--------------------------\n"
          ]
        }
      ]
    },
    {
      "cell_type": "markdown",
      "id": "ac3cf473",
      "metadata": {
        "id": "ac3cf473"
      },
      "source": [
        "For evaluation purpose, for i = 50, please run the process and print out the following:  \n",
        "1. word[50]\n",
        "2. ground_truth[50] (in synset or lemma)\n",
        "3. sent[50]\n",
        "4. candidate_lemmas\n",
        "5. predicted_sense (in synset or lemma)    \n",
        "\n",
        "Also, please print out the accuracy of the process over our dataset"
      ]
    },
    {
      "cell_type": "code",
      "source": [
        "i = 50\n",
        "print(f'word[{i}]:  ',mask_token[i])\n",
        "print(f'ground_truth[{i}]:  ',ground_truth[i])\n",
        "print(f'sent[{i}]:  ',sent[i])\n",
        "print(f'candidate_lemmas:  ',candidate_lemmas[i])\n",
        "print(f'predicted_sense: ',predicted_sense[i][1])"
      ],
      "metadata": {
        "colab": {
          "base_uri": "https://localhost:8080/"
        },
        "id": "MOtExg6HxIT9",
        "outputId": "f673d448-be1a-4d85-eee2-e860ab7ff878"
      },
      "id": "MOtExg6HxIT9",
      "execution_count": null,
      "outputs": [
        {
          "output_type": "stream",
          "name": "stdout",
          "text": [
            "word[50]:   size\n",
            "ground_truth[50]:   size%1:07:00::\n",
            "sent[50]:   \" only a relative handful of such reports was received \" , the jury said , \" considering the widespread interest in the election , the number of voters and the [MASK] of_this city \" . \n",
            "candidate_lemmas:   ['population', 'status', 'reputation', 'character', 'state']\n",
            "predicted_sense:  Synset('size.n.04')\n"
          ]
        }
      ]
    },
    {
      "cell_type": "code",
      "execution_count": null,
      "id": "28c3dfe4",
      "metadata": {
        "id": "28c3dfe4"
      },
      "outputs": [],
      "source": [
        "score = []\n",
        "\n",
        "for idx, result in enumerate(predicted_sense):\n",
        "  if result != '':\n",
        "    try:\n",
        "      ground_truth_lemma = wn.lemma_from_key(ground_truth[idx])\n",
        "      ground_truth_synset = ground_truth_lemma.synset()\n",
        "      score_with_ground_truth = wn.wup_similarity(ground_truth_synset, result[1])\n",
        "      score.append((score_with_ground_truth,ground_truth_synset,result[1]))\n",
        "    except:\n",
        "      ground_truth_replace =  ground_truth[idx].split('%3')\n",
        "      g_t_replace = ground_truth_replace[0] + '%5' + ground_truth_replace[1]\n",
        "      ground_truth_lemma = wn.lemma_from_key(g_t_replace)\n",
        "      ground_truth_synset = ground_truth_lemma.synset()\n",
        "      score_with_ground_truth = wn.wup_similarity(ground_truth_synset, result[1])\n",
        "      score.append((score_with_ground_truth,ground_truth_synset,result[1]))\n",
        "      \n",
        "  else:\n",
        "    score.append(0)\n"
      ]
    },
    {
      "cell_type": "code",
      "source": [
        "correct_count = 0\n",
        "for result in score:\n",
        "  if result != 0 :\n",
        "    if result[1] == result[2]:\n",
        "      correct_count+=1\n",
        "  \n",
        "  \n",
        "\n",
        "accuracy = correct_count / len(score)\n",
        "accuracy"
      ],
      "metadata": {
        "colab": {
          "base_uri": "https://localhost:8080/"
        },
        "id": "grUEAi_Lut6p",
        "outputId": "09a8a9cb-1604-4edb-e43c-633e89726c8a"
      },
      "id": "grUEAi_Lut6p",
      "execution_count": null,
      "outputs": [
        {
          "output_type": "execute_result",
          "data": {
            "text/plain": [
              "0.3397312859884837"
            ]
          },
          "metadata": {},
          "execution_count": 33
        }
      ]
    },
    {
      "cell_type": "markdown",
      "id": "1225036f",
      "metadata": {
        "id": "1225036f"
      },
      "source": [
        "## TA's Note\n",
        "\n",
        "Congratulations, you made it to the end of the tutorial! Make sure you make an appointment to show your work and turn in your finished assignment before next week's lesson. We will ask you to run your code, so double check that everything is working and that your model is saved. Don't worry if you didn't pass the evaluation requirements, you'll still get partial points for trying."
      ]
    },
    {
      "cell_type": "code",
      "execution_count": null,
      "id": "01435bc9",
      "metadata": {
        "id": "01435bc9"
      },
      "outputs": [],
      "source": []
    }
  ],
  "metadata": {
    "kernelspec": {
      "display_name": "gm-transformer-venv",
      "language": "python",
      "name": "gm-transformer-venv"
    },
    "language_info": {
      "codemirror_mode": {
        "name": "ipython",
        "version": 3
      },
      "file_extension": ".py",
      "mimetype": "text/x-python",
      "name": "python",
      "nbconvert_exporter": "python",
      "pygments_lexer": "ipython3",
      "version": "3.8.10"
    },
    "colab": {
      "provenance": []
    },
    "widgets": {
      "application/vnd.jupyter.widget-state+json": {
        "07beec82eb774d2686d637c33a823a30": {
          "model_module": "@jupyter-widgets/controls",
          "model_name": "HBoxModel",
          "model_module_version": "1.5.0",
          "state": {
            "_dom_classes": [],
            "_model_module": "@jupyter-widgets/controls",
            "_model_module_version": "1.5.0",
            "_model_name": "HBoxModel",
            "_view_count": null,
            "_view_module": "@jupyter-widgets/controls",
            "_view_module_version": "1.5.0",
            "_view_name": "HBoxView",
            "box_style": "",
            "children": [
              "IPY_MODEL_8fee7c1457234289a4ec9ca0ec094747",
              "IPY_MODEL_d685e13f67bc42e0adc38e4c6a069719",
              "IPY_MODEL_81f8c3b5de314dcf95cc800a1e337aaa"
            ],
            "layout": "IPY_MODEL_67098cd9743e4b8699a7970bf6b96719"
          }
        },
        "8fee7c1457234289a4ec9ca0ec094747": {
          "model_module": "@jupyter-widgets/controls",
          "model_name": "HTMLModel",
          "model_module_version": "1.5.0",
          "state": {
            "_dom_classes": [],
            "_model_module": "@jupyter-widgets/controls",
            "_model_module_version": "1.5.0",
            "_model_name": "HTMLModel",
            "_view_count": null,
            "_view_module": "@jupyter-widgets/controls",
            "_view_module_version": "1.5.0",
            "_view_name": "HTMLView",
            "description": "",
            "description_tooltip": null,
            "layout": "IPY_MODEL_3c16a78c7bda41ffba090c575c5f9437",
            "placeholder": "​",
            "style": "IPY_MODEL_cd03ce6e0a57474d86b2b33ae7eb81f9",
            "value": "Downloading: 100%"
          }
        },
        "d685e13f67bc42e0adc38e4c6a069719": {
          "model_module": "@jupyter-widgets/controls",
          "model_name": "FloatProgressModel",
          "model_module_version": "1.5.0",
          "state": {
            "_dom_classes": [],
            "_model_module": "@jupyter-widgets/controls",
            "_model_module_version": "1.5.0",
            "_model_name": "FloatProgressModel",
            "_view_count": null,
            "_view_module": "@jupyter-widgets/controls",
            "_view_module_version": "1.5.0",
            "_view_name": "ProgressView",
            "bar_style": "success",
            "description": "",
            "description_tooltip": null,
            "layout": "IPY_MODEL_eb6b732c189d4837b46a57bf0f9d0b27",
            "max": 213450,
            "min": 0,
            "orientation": "horizontal",
            "style": "IPY_MODEL_80919007378a4cd383cd9e681a83d51e",
            "value": 213450
          }
        },
        "81f8c3b5de314dcf95cc800a1e337aaa": {
          "model_module": "@jupyter-widgets/controls",
          "model_name": "HTMLModel",
          "model_module_version": "1.5.0",
          "state": {
            "_dom_classes": [],
            "_model_module": "@jupyter-widgets/controls",
            "_model_module_version": "1.5.0",
            "_model_name": "HTMLModel",
            "_view_count": null,
            "_view_module": "@jupyter-widgets/controls",
            "_view_module_version": "1.5.0",
            "_view_name": "HTMLView",
            "description": "",
            "description_tooltip": null,
            "layout": "IPY_MODEL_5561f84ec14540b080b5b6f2f0287e02",
            "placeholder": "​",
            "style": "IPY_MODEL_8ede47301ac5494c80a49e8848e4ad2e",
            "value": " 213k/213k [00:00&lt;00:00, 546kB/s]"
          }
        },
        "67098cd9743e4b8699a7970bf6b96719": {
          "model_module": "@jupyter-widgets/base",
          "model_name": "LayoutModel",
          "model_module_version": "1.2.0",
          "state": {
            "_model_module": "@jupyter-widgets/base",
            "_model_module_version": "1.2.0",
            "_model_name": "LayoutModel",
            "_view_count": null,
            "_view_module": "@jupyter-widgets/base",
            "_view_module_version": "1.2.0",
            "_view_name": "LayoutView",
            "align_content": null,
            "align_items": null,
            "align_self": null,
            "border": null,
            "bottom": null,
            "display": null,
            "flex": null,
            "flex_flow": null,
            "grid_area": null,
            "grid_auto_columns": null,
            "grid_auto_flow": null,
            "grid_auto_rows": null,
            "grid_column": null,
            "grid_gap": null,
            "grid_row": null,
            "grid_template_areas": null,
            "grid_template_columns": null,
            "grid_template_rows": null,
            "height": null,
            "justify_content": null,
            "justify_items": null,
            "left": null,
            "margin": null,
            "max_height": null,
            "max_width": null,
            "min_height": null,
            "min_width": null,
            "object_fit": null,
            "object_position": null,
            "order": null,
            "overflow": null,
            "overflow_x": null,
            "overflow_y": null,
            "padding": null,
            "right": null,
            "top": null,
            "visibility": null,
            "width": null
          }
        },
        "3c16a78c7bda41ffba090c575c5f9437": {
          "model_module": "@jupyter-widgets/base",
          "model_name": "LayoutModel",
          "model_module_version": "1.2.0",
          "state": {
            "_model_module": "@jupyter-widgets/base",
            "_model_module_version": "1.2.0",
            "_model_name": "LayoutModel",
            "_view_count": null,
            "_view_module": "@jupyter-widgets/base",
            "_view_module_version": "1.2.0",
            "_view_name": "LayoutView",
            "align_content": null,
            "align_items": null,
            "align_self": null,
            "border": null,
            "bottom": null,
            "display": null,
            "flex": null,
            "flex_flow": null,
            "grid_area": null,
            "grid_auto_columns": null,
            "grid_auto_flow": null,
            "grid_auto_rows": null,
            "grid_column": null,
            "grid_gap": null,
            "grid_row": null,
            "grid_template_areas": null,
            "grid_template_columns": null,
            "grid_template_rows": null,
            "height": null,
            "justify_content": null,
            "justify_items": null,
            "left": null,
            "margin": null,
            "max_height": null,
            "max_width": null,
            "min_height": null,
            "min_width": null,
            "object_fit": null,
            "object_position": null,
            "order": null,
            "overflow": null,
            "overflow_x": null,
            "overflow_y": null,
            "padding": null,
            "right": null,
            "top": null,
            "visibility": null,
            "width": null
          }
        },
        "cd03ce6e0a57474d86b2b33ae7eb81f9": {
          "model_module": "@jupyter-widgets/controls",
          "model_name": "DescriptionStyleModel",
          "model_module_version": "1.5.0",
          "state": {
            "_model_module": "@jupyter-widgets/controls",
            "_model_module_version": "1.5.0",
            "_model_name": "DescriptionStyleModel",
            "_view_count": null,
            "_view_module": "@jupyter-widgets/base",
            "_view_module_version": "1.2.0",
            "_view_name": "StyleView",
            "description_width": ""
          }
        },
        "eb6b732c189d4837b46a57bf0f9d0b27": {
          "model_module": "@jupyter-widgets/base",
          "model_name": "LayoutModel",
          "model_module_version": "1.2.0",
          "state": {
            "_model_module": "@jupyter-widgets/base",
            "_model_module_version": "1.2.0",
            "_model_name": "LayoutModel",
            "_view_count": null,
            "_view_module": "@jupyter-widgets/base",
            "_view_module_version": "1.2.0",
            "_view_name": "LayoutView",
            "align_content": null,
            "align_items": null,
            "align_self": null,
            "border": null,
            "bottom": null,
            "display": null,
            "flex": null,
            "flex_flow": null,
            "grid_area": null,
            "grid_auto_columns": null,
            "grid_auto_flow": null,
            "grid_auto_rows": null,
            "grid_column": null,
            "grid_gap": null,
            "grid_row": null,
            "grid_template_areas": null,
            "grid_template_columns": null,
            "grid_template_rows": null,
            "height": null,
            "justify_content": null,
            "justify_items": null,
            "left": null,
            "margin": null,
            "max_height": null,
            "max_width": null,
            "min_height": null,
            "min_width": null,
            "object_fit": null,
            "object_position": null,
            "order": null,
            "overflow": null,
            "overflow_x": null,
            "overflow_y": null,
            "padding": null,
            "right": null,
            "top": null,
            "visibility": null,
            "width": null
          }
        },
        "80919007378a4cd383cd9e681a83d51e": {
          "model_module": "@jupyter-widgets/controls",
          "model_name": "ProgressStyleModel",
          "model_module_version": "1.5.0",
          "state": {
            "_model_module": "@jupyter-widgets/controls",
            "_model_module_version": "1.5.0",
            "_model_name": "ProgressStyleModel",
            "_view_count": null,
            "_view_module": "@jupyter-widgets/base",
            "_view_module_version": "1.2.0",
            "_view_name": "StyleView",
            "bar_color": null,
            "description_width": ""
          }
        },
        "5561f84ec14540b080b5b6f2f0287e02": {
          "model_module": "@jupyter-widgets/base",
          "model_name": "LayoutModel",
          "model_module_version": "1.2.0",
          "state": {
            "_model_module": "@jupyter-widgets/base",
            "_model_module_version": "1.2.0",
            "_model_name": "LayoutModel",
            "_view_count": null,
            "_view_module": "@jupyter-widgets/base",
            "_view_module_version": "1.2.0",
            "_view_name": "LayoutView",
            "align_content": null,
            "align_items": null,
            "align_self": null,
            "border": null,
            "bottom": null,
            "display": null,
            "flex": null,
            "flex_flow": null,
            "grid_area": null,
            "grid_auto_columns": null,
            "grid_auto_flow": null,
            "grid_auto_rows": null,
            "grid_column": null,
            "grid_gap": null,
            "grid_row": null,
            "grid_template_areas": null,
            "grid_template_columns": null,
            "grid_template_rows": null,
            "height": null,
            "justify_content": null,
            "justify_items": null,
            "left": null,
            "margin": null,
            "max_height": null,
            "max_width": null,
            "min_height": null,
            "min_width": null,
            "object_fit": null,
            "object_position": null,
            "order": null,
            "overflow": null,
            "overflow_x": null,
            "overflow_y": null,
            "padding": null,
            "right": null,
            "top": null,
            "visibility": null,
            "width": null
          }
        },
        "8ede47301ac5494c80a49e8848e4ad2e": {
          "model_module": "@jupyter-widgets/controls",
          "model_name": "DescriptionStyleModel",
          "model_module_version": "1.5.0",
          "state": {
            "_model_module": "@jupyter-widgets/controls",
            "_model_module_version": "1.5.0",
            "_model_name": "DescriptionStyleModel",
            "_view_count": null,
            "_view_module": "@jupyter-widgets/base",
            "_view_module_version": "1.2.0",
            "_view_name": "StyleView",
            "description_width": ""
          }
        },
        "97dab44a4bea436f9568da10197f74d8": {
          "model_module": "@jupyter-widgets/controls",
          "model_name": "HBoxModel",
          "model_module_version": "1.5.0",
          "state": {
            "_dom_classes": [],
            "_model_module": "@jupyter-widgets/controls",
            "_model_module_version": "1.5.0",
            "_model_name": "HBoxModel",
            "_view_count": null,
            "_view_module": "@jupyter-widgets/controls",
            "_view_module_version": "1.5.0",
            "_view_name": "HBoxView",
            "box_style": "",
            "children": [
              "IPY_MODEL_5a09a4d075924150b89c0fcb86440faa",
              "IPY_MODEL_15852b2b20bd4c989ee05421861c65da",
              "IPY_MODEL_39514966d29248448e09cb16bdf9f133"
            ],
            "layout": "IPY_MODEL_b51cfa26de804cdba2695da55de6efe6"
          }
        },
        "5a09a4d075924150b89c0fcb86440faa": {
          "model_module": "@jupyter-widgets/controls",
          "model_name": "HTMLModel",
          "model_module_version": "1.5.0",
          "state": {
            "_dom_classes": [],
            "_model_module": "@jupyter-widgets/controls",
            "_model_module_version": "1.5.0",
            "_model_name": "HTMLModel",
            "_view_count": null,
            "_view_module": "@jupyter-widgets/controls",
            "_view_module_version": "1.5.0",
            "_view_name": "HTMLView",
            "description": "",
            "description_tooltip": null,
            "layout": "IPY_MODEL_b73bbfbe98444e7cadf606d9c3da7be4",
            "placeholder": "​",
            "style": "IPY_MODEL_de627fcc43724e559968901fb2b6196e",
            "value": "Downloading: 100%"
          }
        },
        "15852b2b20bd4c989ee05421861c65da": {
          "model_module": "@jupyter-widgets/controls",
          "model_name": "FloatProgressModel",
          "model_module_version": "1.5.0",
          "state": {
            "_dom_classes": [],
            "_model_module": "@jupyter-widgets/controls",
            "_model_module_version": "1.5.0",
            "_model_name": "FloatProgressModel",
            "_view_count": null,
            "_view_module": "@jupyter-widgets/controls",
            "_view_module_version": "1.5.0",
            "_view_name": "ProgressView",
            "bar_style": "success",
            "description": "",
            "description_tooltip": null,
            "layout": "IPY_MODEL_cd70639b069c4727a2deb57121dfd635",
            "max": 29,
            "min": 0,
            "orientation": "horizontal",
            "style": "IPY_MODEL_ef6322938e4347e79ccc5a58f88629d0",
            "value": 29
          }
        },
        "39514966d29248448e09cb16bdf9f133": {
          "model_module": "@jupyter-widgets/controls",
          "model_name": "HTMLModel",
          "model_module_version": "1.5.0",
          "state": {
            "_dom_classes": [],
            "_model_module": "@jupyter-widgets/controls",
            "_model_module_version": "1.5.0",
            "_model_name": "HTMLModel",
            "_view_count": null,
            "_view_module": "@jupyter-widgets/controls",
            "_view_module_version": "1.5.0",
            "_view_name": "HTMLView",
            "description": "",
            "description_tooltip": null,
            "layout": "IPY_MODEL_0610b1a0cc094cf497ec79868ff03b07",
            "placeholder": "​",
            "style": "IPY_MODEL_a926644b214d45cca06977b2b073f027",
            "value": " 29.0/29.0 [00:00&lt;00:00, 570B/s]"
          }
        },
        "b51cfa26de804cdba2695da55de6efe6": {
          "model_module": "@jupyter-widgets/base",
          "model_name": "LayoutModel",
          "model_module_version": "1.2.0",
          "state": {
            "_model_module": "@jupyter-widgets/base",
            "_model_module_version": "1.2.0",
            "_model_name": "LayoutModel",
            "_view_count": null,
            "_view_module": "@jupyter-widgets/base",
            "_view_module_version": "1.2.0",
            "_view_name": "LayoutView",
            "align_content": null,
            "align_items": null,
            "align_self": null,
            "border": null,
            "bottom": null,
            "display": null,
            "flex": null,
            "flex_flow": null,
            "grid_area": null,
            "grid_auto_columns": null,
            "grid_auto_flow": null,
            "grid_auto_rows": null,
            "grid_column": null,
            "grid_gap": null,
            "grid_row": null,
            "grid_template_areas": null,
            "grid_template_columns": null,
            "grid_template_rows": null,
            "height": null,
            "justify_content": null,
            "justify_items": null,
            "left": null,
            "margin": null,
            "max_height": null,
            "max_width": null,
            "min_height": null,
            "min_width": null,
            "object_fit": null,
            "object_position": null,
            "order": null,
            "overflow": null,
            "overflow_x": null,
            "overflow_y": null,
            "padding": null,
            "right": null,
            "top": null,
            "visibility": null,
            "width": null
          }
        },
        "b73bbfbe98444e7cadf606d9c3da7be4": {
          "model_module": "@jupyter-widgets/base",
          "model_name": "LayoutModel",
          "model_module_version": "1.2.0",
          "state": {
            "_model_module": "@jupyter-widgets/base",
            "_model_module_version": "1.2.0",
            "_model_name": "LayoutModel",
            "_view_count": null,
            "_view_module": "@jupyter-widgets/base",
            "_view_module_version": "1.2.0",
            "_view_name": "LayoutView",
            "align_content": null,
            "align_items": null,
            "align_self": null,
            "border": null,
            "bottom": null,
            "display": null,
            "flex": null,
            "flex_flow": null,
            "grid_area": null,
            "grid_auto_columns": null,
            "grid_auto_flow": null,
            "grid_auto_rows": null,
            "grid_column": null,
            "grid_gap": null,
            "grid_row": null,
            "grid_template_areas": null,
            "grid_template_columns": null,
            "grid_template_rows": null,
            "height": null,
            "justify_content": null,
            "justify_items": null,
            "left": null,
            "margin": null,
            "max_height": null,
            "max_width": null,
            "min_height": null,
            "min_width": null,
            "object_fit": null,
            "object_position": null,
            "order": null,
            "overflow": null,
            "overflow_x": null,
            "overflow_y": null,
            "padding": null,
            "right": null,
            "top": null,
            "visibility": null,
            "width": null
          }
        },
        "de627fcc43724e559968901fb2b6196e": {
          "model_module": "@jupyter-widgets/controls",
          "model_name": "DescriptionStyleModel",
          "model_module_version": "1.5.0",
          "state": {
            "_model_module": "@jupyter-widgets/controls",
            "_model_module_version": "1.5.0",
            "_model_name": "DescriptionStyleModel",
            "_view_count": null,
            "_view_module": "@jupyter-widgets/base",
            "_view_module_version": "1.2.0",
            "_view_name": "StyleView",
            "description_width": ""
          }
        },
        "cd70639b069c4727a2deb57121dfd635": {
          "model_module": "@jupyter-widgets/base",
          "model_name": "LayoutModel",
          "model_module_version": "1.2.0",
          "state": {
            "_model_module": "@jupyter-widgets/base",
            "_model_module_version": "1.2.0",
            "_model_name": "LayoutModel",
            "_view_count": null,
            "_view_module": "@jupyter-widgets/base",
            "_view_module_version": "1.2.0",
            "_view_name": "LayoutView",
            "align_content": null,
            "align_items": null,
            "align_self": null,
            "border": null,
            "bottom": null,
            "display": null,
            "flex": null,
            "flex_flow": null,
            "grid_area": null,
            "grid_auto_columns": null,
            "grid_auto_flow": null,
            "grid_auto_rows": null,
            "grid_column": null,
            "grid_gap": null,
            "grid_row": null,
            "grid_template_areas": null,
            "grid_template_columns": null,
            "grid_template_rows": null,
            "height": null,
            "justify_content": null,
            "justify_items": null,
            "left": null,
            "margin": null,
            "max_height": null,
            "max_width": null,
            "min_height": null,
            "min_width": null,
            "object_fit": null,
            "object_position": null,
            "order": null,
            "overflow": null,
            "overflow_x": null,
            "overflow_y": null,
            "padding": null,
            "right": null,
            "top": null,
            "visibility": null,
            "width": null
          }
        },
        "ef6322938e4347e79ccc5a58f88629d0": {
          "model_module": "@jupyter-widgets/controls",
          "model_name": "ProgressStyleModel",
          "model_module_version": "1.5.0",
          "state": {
            "_model_module": "@jupyter-widgets/controls",
            "_model_module_version": "1.5.0",
            "_model_name": "ProgressStyleModel",
            "_view_count": null,
            "_view_module": "@jupyter-widgets/base",
            "_view_module_version": "1.2.0",
            "_view_name": "StyleView",
            "bar_color": null,
            "description_width": ""
          }
        },
        "0610b1a0cc094cf497ec79868ff03b07": {
          "model_module": "@jupyter-widgets/base",
          "model_name": "LayoutModel",
          "model_module_version": "1.2.0",
          "state": {
            "_model_module": "@jupyter-widgets/base",
            "_model_module_version": "1.2.0",
            "_model_name": "LayoutModel",
            "_view_count": null,
            "_view_module": "@jupyter-widgets/base",
            "_view_module_version": "1.2.0",
            "_view_name": "LayoutView",
            "align_content": null,
            "align_items": null,
            "align_self": null,
            "border": null,
            "bottom": null,
            "display": null,
            "flex": null,
            "flex_flow": null,
            "grid_area": null,
            "grid_auto_columns": null,
            "grid_auto_flow": null,
            "grid_auto_rows": null,
            "grid_column": null,
            "grid_gap": null,
            "grid_row": null,
            "grid_template_areas": null,
            "grid_template_columns": null,
            "grid_template_rows": null,
            "height": null,
            "justify_content": null,
            "justify_items": null,
            "left": null,
            "margin": null,
            "max_height": null,
            "max_width": null,
            "min_height": null,
            "min_width": null,
            "object_fit": null,
            "object_position": null,
            "order": null,
            "overflow": null,
            "overflow_x": null,
            "overflow_y": null,
            "padding": null,
            "right": null,
            "top": null,
            "visibility": null,
            "width": null
          }
        },
        "a926644b214d45cca06977b2b073f027": {
          "model_module": "@jupyter-widgets/controls",
          "model_name": "DescriptionStyleModel",
          "model_module_version": "1.5.0",
          "state": {
            "_model_module": "@jupyter-widgets/controls",
            "_model_module_version": "1.5.0",
            "_model_name": "DescriptionStyleModel",
            "_view_count": null,
            "_view_module": "@jupyter-widgets/base",
            "_view_module_version": "1.2.0",
            "_view_name": "StyleView",
            "description_width": ""
          }
        },
        "68419feee124463fa1d19350aac053d5": {
          "model_module": "@jupyter-widgets/controls",
          "model_name": "HBoxModel",
          "model_module_version": "1.5.0",
          "state": {
            "_dom_classes": [],
            "_model_module": "@jupyter-widgets/controls",
            "_model_module_version": "1.5.0",
            "_model_name": "HBoxModel",
            "_view_count": null,
            "_view_module": "@jupyter-widgets/controls",
            "_view_module_version": "1.5.0",
            "_view_name": "HBoxView",
            "box_style": "",
            "children": [
              "IPY_MODEL_56bae885423c4551b65aaec190a87479",
              "IPY_MODEL_b928eba6f9e9436aa859690cfbc52a34",
              "IPY_MODEL_360245586cec4eb68ac5f694ec150e4e"
            ],
            "layout": "IPY_MODEL_e55bdc622f634370b04d92546065ae3e"
          }
        },
        "56bae885423c4551b65aaec190a87479": {
          "model_module": "@jupyter-widgets/controls",
          "model_name": "HTMLModel",
          "model_module_version": "1.5.0",
          "state": {
            "_dom_classes": [],
            "_model_module": "@jupyter-widgets/controls",
            "_model_module_version": "1.5.0",
            "_model_name": "HTMLModel",
            "_view_count": null,
            "_view_module": "@jupyter-widgets/controls",
            "_view_module_version": "1.5.0",
            "_view_name": "HTMLView",
            "description": "",
            "description_tooltip": null,
            "layout": "IPY_MODEL_6732eea9fe854f13b7520c13c4476995",
            "placeholder": "​",
            "style": "IPY_MODEL_1c5b967c65594383a990e8c9503578f3",
            "value": "Downloading: 100%"
          }
        },
        "b928eba6f9e9436aa859690cfbc52a34": {
          "model_module": "@jupyter-widgets/controls",
          "model_name": "FloatProgressModel",
          "model_module_version": "1.5.0",
          "state": {
            "_dom_classes": [],
            "_model_module": "@jupyter-widgets/controls",
            "_model_module_version": "1.5.0",
            "_model_name": "FloatProgressModel",
            "_view_count": null,
            "_view_module": "@jupyter-widgets/controls",
            "_view_module_version": "1.5.0",
            "_view_name": "ProgressView",
            "bar_style": "success",
            "description": "",
            "description_tooltip": null,
            "layout": "IPY_MODEL_61dbfb15b5ca4f1d8810da72f5224607",
            "max": 570,
            "min": 0,
            "orientation": "horizontal",
            "style": "IPY_MODEL_60092eeb4b574a91a9d405532e0f2a9e",
            "value": 570
          }
        },
        "360245586cec4eb68ac5f694ec150e4e": {
          "model_module": "@jupyter-widgets/controls",
          "model_name": "HTMLModel",
          "model_module_version": "1.5.0",
          "state": {
            "_dom_classes": [],
            "_model_module": "@jupyter-widgets/controls",
            "_model_module_version": "1.5.0",
            "_model_name": "HTMLModel",
            "_view_count": null,
            "_view_module": "@jupyter-widgets/controls",
            "_view_module_version": "1.5.0",
            "_view_name": "HTMLView",
            "description": "",
            "description_tooltip": null,
            "layout": "IPY_MODEL_a70e7a776ca8440fa0db2eb3aa1602f6",
            "placeholder": "​",
            "style": "IPY_MODEL_1602a9c249d643a49f90d868641aa30c",
            "value": " 570/570 [00:00&lt;00:00, 11.8kB/s]"
          }
        },
        "e55bdc622f634370b04d92546065ae3e": {
          "model_module": "@jupyter-widgets/base",
          "model_name": "LayoutModel",
          "model_module_version": "1.2.0",
          "state": {
            "_model_module": "@jupyter-widgets/base",
            "_model_module_version": "1.2.0",
            "_model_name": "LayoutModel",
            "_view_count": null,
            "_view_module": "@jupyter-widgets/base",
            "_view_module_version": "1.2.0",
            "_view_name": "LayoutView",
            "align_content": null,
            "align_items": null,
            "align_self": null,
            "border": null,
            "bottom": null,
            "display": null,
            "flex": null,
            "flex_flow": null,
            "grid_area": null,
            "grid_auto_columns": null,
            "grid_auto_flow": null,
            "grid_auto_rows": null,
            "grid_column": null,
            "grid_gap": null,
            "grid_row": null,
            "grid_template_areas": null,
            "grid_template_columns": null,
            "grid_template_rows": null,
            "height": null,
            "justify_content": null,
            "justify_items": null,
            "left": null,
            "margin": null,
            "max_height": null,
            "max_width": null,
            "min_height": null,
            "min_width": null,
            "object_fit": null,
            "object_position": null,
            "order": null,
            "overflow": null,
            "overflow_x": null,
            "overflow_y": null,
            "padding": null,
            "right": null,
            "top": null,
            "visibility": null,
            "width": null
          }
        },
        "6732eea9fe854f13b7520c13c4476995": {
          "model_module": "@jupyter-widgets/base",
          "model_name": "LayoutModel",
          "model_module_version": "1.2.0",
          "state": {
            "_model_module": "@jupyter-widgets/base",
            "_model_module_version": "1.2.0",
            "_model_name": "LayoutModel",
            "_view_count": null,
            "_view_module": "@jupyter-widgets/base",
            "_view_module_version": "1.2.0",
            "_view_name": "LayoutView",
            "align_content": null,
            "align_items": null,
            "align_self": null,
            "border": null,
            "bottom": null,
            "display": null,
            "flex": null,
            "flex_flow": null,
            "grid_area": null,
            "grid_auto_columns": null,
            "grid_auto_flow": null,
            "grid_auto_rows": null,
            "grid_column": null,
            "grid_gap": null,
            "grid_row": null,
            "grid_template_areas": null,
            "grid_template_columns": null,
            "grid_template_rows": null,
            "height": null,
            "justify_content": null,
            "justify_items": null,
            "left": null,
            "margin": null,
            "max_height": null,
            "max_width": null,
            "min_height": null,
            "min_width": null,
            "object_fit": null,
            "object_position": null,
            "order": null,
            "overflow": null,
            "overflow_x": null,
            "overflow_y": null,
            "padding": null,
            "right": null,
            "top": null,
            "visibility": null,
            "width": null
          }
        },
        "1c5b967c65594383a990e8c9503578f3": {
          "model_module": "@jupyter-widgets/controls",
          "model_name": "DescriptionStyleModel",
          "model_module_version": "1.5.0",
          "state": {
            "_model_module": "@jupyter-widgets/controls",
            "_model_module_version": "1.5.0",
            "_model_name": "DescriptionStyleModel",
            "_view_count": null,
            "_view_module": "@jupyter-widgets/base",
            "_view_module_version": "1.2.0",
            "_view_name": "StyleView",
            "description_width": ""
          }
        },
        "61dbfb15b5ca4f1d8810da72f5224607": {
          "model_module": "@jupyter-widgets/base",
          "model_name": "LayoutModel",
          "model_module_version": "1.2.0",
          "state": {
            "_model_module": "@jupyter-widgets/base",
            "_model_module_version": "1.2.0",
            "_model_name": "LayoutModel",
            "_view_count": null,
            "_view_module": "@jupyter-widgets/base",
            "_view_module_version": "1.2.0",
            "_view_name": "LayoutView",
            "align_content": null,
            "align_items": null,
            "align_self": null,
            "border": null,
            "bottom": null,
            "display": null,
            "flex": null,
            "flex_flow": null,
            "grid_area": null,
            "grid_auto_columns": null,
            "grid_auto_flow": null,
            "grid_auto_rows": null,
            "grid_column": null,
            "grid_gap": null,
            "grid_row": null,
            "grid_template_areas": null,
            "grid_template_columns": null,
            "grid_template_rows": null,
            "height": null,
            "justify_content": null,
            "justify_items": null,
            "left": null,
            "margin": null,
            "max_height": null,
            "max_width": null,
            "min_height": null,
            "min_width": null,
            "object_fit": null,
            "object_position": null,
            "order": null,
            "overflow": null,
            "overflow_x": null,
            "overflow_y": null,
            "padding": null,
            "right": null,
            "top": null,
            "visibility": null,
            "width": null
          }
        },
        "60092eeb4b574a91a9d405532e0f2a9e": {
          "model_module": "@jupyter-widgets/controls",
          "model_name": "ProgressStyleModel",
          "model_module_version": "1.5.0",
          "state": {
            "_model_module": "@jupyter-widgets/controls",
            "_model_module_version": "1.5.0",
            "_model_name": "ProgressStyleModel",
            "_view_count": null,
            "_view_module": "@jupyter-widgets/base",
            "_view_module_version": "1.2.0",
            "_view_name": "StyleView",
            "bar_color": null,
            "description_width": ""
          }
        },
        "a70e7a776ca8440fa0db2eb3aa1602f6": {
          "model_module": "@jupyter-widgets/base",
          "model_name": "LayoutModel",
          "model_module_version": "1.2.0",
          "state": {
            "_model_module": "@jupyter-widgets/base",
            "_model_module_version": "1.2.0",
            "_model_name": "LayoutModel",
            "_view_count": null,
            "_view_module": "@jupyter-widgets/base",
            "_view_module_version": "1.2.0",
            "_view_name": "LayoutView",
            "align_content": null,
            "align_items": null,
            "align_self": null,
            "border": null,
            "bottom": null,
            "display": null,
            "flex": null,
            "flex_flow": null,
            "grid_area": null,
            "grid_auto_columns": null,
            "grid_auto_flow": null,
            "grid_auto_rows": null,
            "grid_column": null,
            "grid_gap": null,
            "grid_row": null,
            "grid_template_areas": null,
            "grid_template_columns": null,
            "grid_template_rows": null,
            "height": null,
            "justify_content": null,
            "justify_items": null,
            "left": null,
            "margin": null,
            "max_height": null,
            "max_width": null,
            "min_height": null,
            "min_width": null,
            "object_fit": null,
            "object_position": null,
            "order": null,
            "overflow": null,
            "overflow_x": null,
            "overflow_y": null,
            "padding": null,
            "right": null,
            "top": null,
            "visibility": null,
            "width": null
          }
        },
        "1602a9c249d643a49f90d868641aa30c": {
          "model_module": "@jupyter-widgets/controls",
          "model_name": "DescriptionStyleModel",
          "model_module_version": "1.5.0",
          "state": {
            "_model_module": "@jupyter-widgets/controls",
            "_model_module_version": "1.5.0",
            "_model_name": "DescriptionStyleModel",
            "_view_count": null,
            "_view_module": "@jupyter-widgets/base",
            "_view_module_version": "1.2.0",
            "_view_name": "StyleView",
            "description_width": ""
          }
        },
        "2acb1da20ed54f038cb2b5c67edf140e": {
          "model_module": "@jupyter-widgets/controls",
          "model_name": "HBoxModel",
          "model_module_version": "1.5.0",
          "state": {
            "_dom_classes": [],
            "_model_module": "@jupyter-widgets/controls",
            "_model_module_version": "1.5.0",
            "_model_name": "HBoxModel",
            "_view_count": null,
            "_view_module": "@jupyter-widgets/controls",
            "_view_module_version": "1.5.0",
            "_view_name": "HBoxView",
            "box_style": "",
            "children": [
              "IPY_MODEL_1bcc732baa174d5dae7a7f700096c82d",
              "IPY_MODEL_90d028cc424f493b9f93348f17001f3e",
              "IPY_MODEL_e52c3e82304448d28bfe29096c2fb958"
            ],
            "layout": "IPY_MODEL_d9a0654b940b46f880164ce2c987182c"
          }
        },
        "1bcc732baa174d5dae7a7f700096c82d": {
          "model_module": "@jupyter-widgets/controls",
          "model_name": "HTMLModel",
          "model_module_version": "1.5.0",
          "state": {
            "_dom_classes": [],
            "_model_module": "@jupyter-widgets/controls",
            "_model_module_version": "1.5.0",
            "_model_name": "HTMLModel",
            "_view_count": null,
            "_view_module": "@jupyter-widgets/controls",
            "_view_module_version": "1.5.0",
            "_view_name": "HTMLView",
            "description": "",
            "description_tooltip": null,
            "layout": "IPY_MODEL_436c95f97cc345c28231e7fad115b7d1",
            "placeholder": "​",
            "style": "IPY_MODEL_c79886f88d18414ea6842eeea6e17ce1",
            "value": "Downloading: 100%"
          }
        },
        "90d028cc424f493b9f93348f17001f3e": {
          "model_module": "@jupyter-widgets/controls",
          "model_name": "FloatProgressModel",
          "model_module_version": "1.5.0",
          "state": {
            "_dom_classes": [],
            "_model_module": "@jupyter-widgets/controls",
            "_model_module_version": "1.5.0",
            "_model_name": "FloatProgressModel",
            "_view_count": null,
            "_view_module": "@jupyter-widgets/controls",
            "_view_module_version": "1.5.0",
            "_view_name": "ProgressView",
            "bar_style": "success",
            "description": "",
            "description_tooltip": null,
            "layout": "IPY_MODEL_267115b14588414ebc15519ab1b1633f",
            "max": 435779157,
            "min": 0,
            "orientation": "horizontal",
            "style": "IPY_MODEL_a148ab8f228c4da0984bcb9b3284e3ac",
            "value": 435779157
          }
        },
        "e52c3e82304448d28bfe29096c2fb958": {
          "model_module": "@jupyter-widgets/controls",
          "model_name": "HTMLModel",
          "model_module_version": "1.5.0",
          "state": {
            "_dom_classes": [],
            "_model_module": "@jupyter-widgets/controls",
            "_model_module_version": "1.5.0",
            "_model_name": "HTMLModel",
            "_view_count": null,
            "_view_module": "@jupyter-widgets/controls",
            "_view_module_version": "1.5.0",
            "_view_name": "HTMLView",
            "description": "",
            "description_tooltip": null,
            "layout": "IPY_MODEL_574e44d2cf994ccf8c596753708b01f4",
            "placeholder": "​",
            "style": "IPY_MODEL_37ce4fe791c645739523ec7df5eab101",
            "value": " 436M/436M [00:14&lt;00:00, 36.6MB/s]"
          }
        },
        "d9a0654b940b46f880164ce2c987182c": {
          "model_module": "@jupyter-widgets/base",
          "model_name": "LayoutModel",
          "model_module_version": "1.2.0",
          "state": {
            "_model_module": "@jupyter-widgets/base",
            "_model_module_version": "1.2.0",
            "_model_name": "LayoutModel",
            "_view_count": null,
            "_view_module": "@jupyter-widgets/base",
            "_view_module_version": "1.2.0",
            "_view_name": "LayoutView",
            "align_content": null,
            "align_items": null,
            "align_self": null,
            "border": null,
            "bottom": null,
            "display": null,
            "flex": null,
            "flex_flow": null,
            "grid_area": null,
            "grid_auto_columns": null,
            "grid_auto_flow": null,
            "grid_auto_rows": null,
            "grid_column": null,
            "grid_gap": null,
            "grid_row": null,
            "grid_template_areas": null,
            "grid_template_columns": null,
            "grid_template_rows": null,
            "height": null,
            "justify_content": null,
            "justify_items": null,
            "left": null,
            "margin": null,
            "max_height": null,
            "max_width": null,
            "min_height": null,
            "min_width": null,
            "object_fit": null,
            "object_position": null,
            "order": null,
            "overflow": null,
            "overflow_x": null,
            "overflow_y": null,
            "padding": null,
            "right": null,
            "top": null,
            "visibility": null,
            "width": null
          }
        },
        "436c95f97cc345c28231e7fad115b7d1": {
          "model_module": "@jupyter-widgets/base",
          "model_name": "LayoutModel",
          "model_module_version": "1.2.0",
          "state": {
            "_model_module": "@jupyter-widgets/base",
            "_model_module_version": "1.2.0",
            "_model_name": "LayoutModel",
            "_view_count": null,
            "_view_module": "@jupyter-widgets/base",
            "_view_module_version": "1.2.0",
            "_view_name": "LayoutView",
            "align_content": null,
            "align_items": null,
            "align_self": null,
            "border": null,
            "bottom": null,
            "display": null,
            "flex": null,
            "flex_flow": null,
            "grid_area": null,
            "grid_auto_columns": null,
            "grid_auto_flow": null,
            "grid_auto_rows": null,
            "grid_column": null,
            "grid_gap": null,
            "grid_row": null,
            "grid_template_areas": null,
            "grid_template_columns": null,
            "grid_template_rows": null,
            "height": null,
            "justify_content": null,
            "justify_items": null,
            "left": null,
            "margin": null,
            "max_height": null,
            "max_width": null,
            "min_height": null,
            "min_width": null,
            "object_fit": null,
            "object_position": null,
            "order": null,
            "overflow": null,
            "overflow_x": null,
            "overflow_y": null,
            "padding": null,
            "right": null,
            "top": null,
            "visibility": null,
            "width": null
          }
        },
        "c79886f88d18414ea6842eeea6e17ce1": {
          "model_module": "@jupyter-widgets/controls",
          "model_name": "DescriptionStyleModel",
          "model_module_version": "1.5.0",
          "state": {
            "_model_module": "@jupyter-widgets/controls",
            "_model_module_version": "1.5.0",
            "_model_name": "DescriptionStyleModel",
            "_view_count": null,
            "_view_module": "@jupyter-widgets/base",
            "_view_module_version": "1.2.0",
            "_view_name": "StyleView",
            "description_width": ""
          }
        },
        "267115b14588414ebc15519ab1b1633f": {
          "model_module": "@jupyter-widgets/base",
          "model_name": "LayoutModel",
          "model_module_version": "1.2.0",
          "state": {
            "_model_module": "@jupyter-widgets/base",
            "_model_module_version": "1.2.0",
            "_model_name": "LayoutModel",
            "_view_count": null,
            "_view_module": "@jupyter-widgets/base",
            "_view_module_version": "1.2.0",
            "_view_name": "LayoutView",
            "align_content": null,
            "align_items": null,
            "align_self": null,
            "border": null,
            "bottom": null,
            "display": null,
            "flex": null,
            "flex_flow": null,
            "grid_area": null,
            "grid_auto_columns": null,
            "grid_auto_flow": null,
            "grid_auto_rows": null,
            "grid_column": null,
            "grid_gap": null,
            "grid_row": null,
            "grid_template_areas": null,
            "grid_template_columns": null,
            "grid_template_rows": null,
            "height": null,
            "justify_content": null,
            "justify_items": null,
            "left": null,
            "margin": null,
            "max_height": null,
            "max_width": null,
            "min_height": null,
            "min_width": null,
            "object_fit": null,
            "object_position": null,
            "order": null,
            "overflow": null,
            "overflow_x": null,
            "overflow_y": null,
            "padding": null,
            "right": null,
            "top": null,
            "visibility": null,
            "width": null
          }
        },
        "a148ab8f228c4da0984bcb9b3284e3ac": {
          "model_module": "@jupyter-widgets/controls",
          "model_name": "ProgressStyleModel",
          "model_module_version": "1.5.0",
          "state": {
            "_model_module": "@jupyter-widgets/controls",
            "_model_module_version": "1.5.0",
            "_model_name": "ProgressStyleModel",
            "_view_count": null,
            "_view_module": "@jupyter-widgets/base",
            "_view_module_version": "1.2.0",
            "_view_name": "StyleView",
            "bar_color": null,
            "description_width": ""
          }
        },
        "574e44d2cf994ccf8c596753708b01f4": {
          "model_module": "@jupyter-widgets/base",
          "model_name": "LayoutModel",
          "model_module_version": "1.2.0",
          "state": {
            "_model_module": "@jupyter-widgets/base",
            "_model_module_version": "1.2.0",
            "_model_name": "LayoutModel",
            "_view_count": null,
            "_view_module": "@jupyter-widgets/base",
            "_view_module_version": "1.2.0",
            "_view_name": "LayoutView",
            "align_content": null,
            "align_items": null,
            "align_self": null,
            "border": null,
            "bottom": null,
            "display": null,
            "flex": null,
            "flex_flow": null,
            "grid_area": null,
            "grid_auto_columns": null,
            "grid_auto_flow": null,
            "grid_auto_rows": null,
            "grid_column": null,
            "grid_gap": null,
            "grid_row": null,
            "grid_template_areas": null,
            "grid_template_columns": null,
            "grid_template_rows": null,
            "height": null,
            "justify_content": null,
            "justify_items": null,
            "left": null,
            "margin": null,
            "max_height": null,
            "max_width": null,
            "min_height": null,
            "min_width": null,
            "object_fit": null,
            "object_position": null,
            "order": null,
            "overflow": null,
            "overflow_x": null,
            "overflow_y": null,
            "padding": null,
            "right": null,
            "top": null,
            "visibility": null,
            "width": null
          }
        },
        "37ce4fe791c645739523ec7df5eab101": {
          "model_module": "@jupyter-widgets/controls",
          "model_name": "DescriptionStyleModel",
          "model_module_version": "1.5.0",
          "state": {
            "_model_module": "@jupyter-widgets/controls",
            "_model_module_version": "1.5.0",
            "_model_name": "DescriptionStyleModel",
            "_view_count": null,
            "_view_module": "@jupyter-widgets/base",
            "_view_module_version": "1.2.0",
            "_view_name": "StyleView",
            "description_width": ""
          }
        }
      }
    }
  },
  "nbformat": 4,
  "nbformat_minor": 5
}