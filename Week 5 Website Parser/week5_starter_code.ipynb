{
  "cells": [
    {
      "cell_type": "code",
      "execution_count": null,
      "metadata": {
        "colab": {
          "base_uri": "https://localhost:8080/"
        },
        "id": "3co27T05X2nZ",
        "outputId": "03d323f7-5d05-4578-fed2-ca5c413e4384"
      },
      "outputs": [
        {
          "output_type": "stream",
          "name": "stdout",
          "text": [
            "Mounted at /content/drive\n"
          ]
        }
      ],
      "source": [
        "from google.colab import drive\n",
        "drive.mount('/content/drive')"
      ],
      "id": "3co27T05X2nZ"
    },
    {
      "cell_type": "code",
      "execution_count": null,
      "metadata": {
        "colab": {
          "base_uri": "https://localhost:8080/"
        },
        "id": "om0F3FUh5w2m",
        "outputId": "cc93de59-cab6-4b68-f9a9-41404cd1f081"
      },
      "outputs": [
        {
          "output_type": "stream",
          "name": "stdout",
          "text": [
            "Looking in indexes: https://pypi.org/simple, https://us-python.pkg.dev/colab-wheels/public/simple/\n",
            "Collecting jsonlines\n",
            "  Downloading jsonlines-3.1.0-py3-none-any.whl (8.6 kB)\n",
            "Requirement already satisfied: typing-extensions in /usr/local/lib/python3.7/dist-packages (from jsonlines) (4.1.1)\n",
            "Requirement already satisfied: attrs>=19.2.0 in /usr/local/lib/python3.7/dist-packages (from jsonlines) (22.1.0)\n",
            "Installing collected packages: jsonlines\n",
            "Successfully installed jsonlines-3.1.0\n"
          ]
        }
      ],
      "source": [
        "!pip install jsonlines"
      ],
      "id": "om0F3FUh5w2m"
    },
    {
      "cell_type": "code",
      "execution_count": null,
      "metadata": {
        "id": "8ccf0641-0617-4ee1-b016-8c1bae67cc92"
      },
      "outputs": [],
      "source": [
        "from bs4 import BeautifulSoup as bs\n",
        "import json\n",
        "import jsonlines\n",
        "from tqdm import tqdm"
      ],
      "id": "8ccf0641-0617-4ee1-b016-8c1bae67cc92"
    },
    {
      "cell_type": "code",
      "execution_count": null,
      "metadata": {
        "colab": {
          "base_uri": "https://localhost:8080/"
        },
        "id": "49f64c37-5ef9-4717-aa2e-ee95037f4fa4",
        "outputId": "480ab939-61a5-474c-bdb4-1e6685643900"
      },
      "outputs": [
        {
          "output_type": "stream",
          "name": "stderr",
          "text": [
            "100%|██████████| 44309/44309 [00:31<00:00, 1419.19it/s]"
          ]
        },
        {
          "output_type": "stream",
          "name": "stdout",
          "text": [
            "44309\n"
          ]
        },
        {
          "output_type": "stream",
          "name": "stderr",
          "text": [
            "\n"
          ]
        }
      ],
      "source": [
        "file = open('/content/drive/MyDrive/graduate/nlp/week5/med.cd.az.xml', 'r', encoding = 'utf-8')\n",
        "content = file.readlines()\n",
        "bs_contents = []\n",
        "for line in tqdm(content):\n",
        "    bs_contents.append(bs(line, 'xml'))\n",
        "print(len(bs_contents))"
      ],
      "id": "49f64c37-5ef9-4717-aa2e-ee95037f4fa4"
    },
    {
      "cell_type": "code",
      "execution_count": null,
      "metadata": {
        "colab": {
          "base_uri": "https://localhost:8080/"
        },
        "id": "lYxxaWYCv_WA",
        "outputId": "cc1b41b1-7f7e-4dfa-de8c-d43041ca1940"
      },
      "outputs": [
        {
          "output_type": "stream",
          "name": "stderr",
          "text": [
            "100%|██████████| 44309/44309 [01:08<00:00, 644.47it/s]\n"
          ]
        }
      ],
      "source": [
        "import re\n",
        "\n",
        "word_dict = {}\n",
        "for bs_content in tqdm(bs_contents):\n",
        "  for test in bs_content.find_all('HOMOGRAPH'):\n",
        "    if test.find('HEAD') != None:\n",
        "      if test.find(re.compile('ENTRY*')) != None:\n",
        "                  word = test.find(re.compile('ENTRY*')).text\n",
        "                  word_dict[word] = {} \n",
        "      if test.find(re.compile('ENTRY13')) != None:  \n",
        "        word = test.find(re.compile('ENTRY13')).text\n",
        "        word_dict[word] = {}        \n",
        "      if test.attrs['ID'] != None:\n",
        "        ID = test.attrs['ID']\n",
        "        word_dict[word].update({\"ID\": ID})\n",
        "      if test.find('PART-OF-SPEECH') != None:\n",
        "        PART_OF_SPEECH = test.find('PART-OF-SPEECH').text\n",
        "        word_dict[word].update({\"PART-OF-SPEECH\": PART_OF_SPEECH})\n",
        "      if test.find('STYLE-LEVEL') != None:\n",
        "        STYLE_LEVEL = test.find('STYLE-LEVEL').text\n",
        "        word_dict[word].update({\"STYLE-LEVEL\": STYLE_LEVEL})\n",
        "\n",
        "    if test.find('PHRASE') != None:\n",
        "      phrase_dic= {}\n",
        "      for phrase_entry in test.find_all('PHRASE'):\n",
        "        if phrase_entry.find('DEFINITION'):\n",
        "          def_tag = phrase_entry.find('DEFINITION').name\n",
        "          def_text = phrase_entry.find('DEFINITION').text\n",
        "          phrase_dic[def_tag] = def_text\n",
        "        if phrase_entry.find('MULTIWORD'):\n",
        "          multiword_tag = phrase_entry.find('MULTIWORD').name\n",
        "          multiword_text = phrase_entry.find('MULTIWORD').text\n",
        "          phrase_dic[multiword_tag] = multiword_text\n",
        "        if phrase_entry.find('TRANSLATION'):\n",
        "          translation_tag = phrase_entry.find('TRANSLATION').name\n",
        "          translation_text = phrase_entry.find('TRANSLATION').text\n",
        "          phrase_dic[translation_tag] = translation_text\n",
        "        if phrase_entry.find('trans'):\n",
        "          trans_tag = phrase_entry.find('trans').name\n",
        "          trans_text = phrase_entry.find('trans').text\n",
        "          phrase_dic[trans_tag] = trans_text\n",
        "      word_dict[word].update({\"PHRASE\": [phrase_dic]})\n",
        "\n",
        "\n",
        "    if test.find(re.compile('SENSE*')) != None:\n",
        "      sense_dic= {}\n",
        "      for sense_entry in test.find_all(re.compile('SENSE*')):\n",
        "        if sense_entry.find('DEFINITION'):\n",
        "          def_tag = sense_entry.find('DEFINITION').name\n",
        "          def_text = sense_entry.find('DEFINITION').text\n",
        "          sense_dic[def_tag] = def_text\n",
        "        if sense_entry.find(\"trans\"):\n",
        "          trans_tag = sense_entry.find(\"trans\").name\n",
        "          trans_text = sense_entry.find(\"trans\").text\n",
        "          sense_dic[trans_tag] = trans_text\n",
        "        if sense_entry.find(\"TRANSLATION\"):\n",
        "          translation_tag = sense_entry.find(\"TRANSLATION\").name\n",
        "          translation_text = sense_entry.find(\"TRANSLATION\").text\n",
        "          sense_dic[translation_tag] = translation_text\n",
        "        if sense_entry.find(\"EXAMPLES\"):\n",
        "          examples_tag = sense_entry.find(\"EXAMPLES\").name\n",
        "          examples_list = []\n",
        "          for example_entry in sense_entry.find_all(\"EXAMPLES\"):\n",
        "            example_dic = {}\n",
        "            if example_entry.find('EXAMPLE'):\n",
        "              example_tag = example_entry.find('EXAMPLE').name\n",
        "              example_text = example_entry.find('EXAMPLE').text\n",
        "              example_dic[example_tag] = example_text\n",
        "            if example_entry.find('TRANSLATION'):\n",
        "              example_TRANSLATION_tag = example_entry.find('TRANSLATION').name\n",
        "              example_TRANSLATION_text = example_entry.find('TRANSLATION').text\n",
        "              example_dic.update({example_TRANSLATION_tag:example_TRANSLATION_text})\n",
        "            if example_entry.find('trans'):\n",
        "              example_trans_tag = example_entry.find('trans').name\n",
        "              example_trans_text = example_entry.find('trans').text\n",
        "              example_dic.update({example_trans_tag:example_trans_text})\n",
        "            examples_list.append(example_dic)\n",
        "          sense_dic[examples_tag] = examples_list\n",
        "        if sense_entry.find(\"SUB-SENSE\"):\n",
        "          sub_sense_tag = sense_entry.find(\"SUB-SENSE\").name\n",
        "          sub_sense_list = []\n",
        "          for sub_sense_entry in sense_entry.find_all(\"SUB-SENSE\"):\n",
        "            sub_sense_dic = {}\n",
        "            if sub_sense_entry.find('DEFINITION'):\n",
        "              sub_sense_def_tag = sub_sense_entry.find('DEFINITION').name\n",
        "              sub_sense_def_text = sub_sense_entry.find('DEFINITION').text\n",
        "              sub_sense_dic[sub_sense_def_tag] = sub_sense_def_text\n",
        "            if sub_sense_entry.find(\"TRANSLATION\"):\n",
        "              sub_sense_TRANSLATION_tag = sub_sense_entry.find('TRANSLATION').name\n",
        "              sub_sense_TRANSLATION_text = sub_sense_entry.find('TRANSLATION').text\n",
        "              sub_sense_dic.update({sub_sense_TRANSLATION_tag:sub_sense_TRANSLATION_text})\n",
        "            if sub_sense_entry.find('trans'):\n",
        "              sub_sense_trans_tag = sub_sense_entry.find('trans').name\n",
        "              sub_sense_trans_text = sub_sense_entry.find('trans').text\n",
        "              sub_sense_dic.update({sub_sense_trans_tag:sub_sense_trans_text})\n",
        "            if sub_sense_entry.find(\"EXAMPLES\"):\n",
        "              sub_sense_examples_tag = sub_sense_entry.find(\"EXAMPLES\").name\n",
        "              sub_sense_examples_list = []\n",
        "              for example_entry in sub_sense_entry.find_all(\"EXAMPLES\"):\n",
        "                example_dic = {}\n",
        "              if example_entry.find('EXAMPLE'):\n",
        "                example_tag = example_entry.find('EXAMPLE').name\n",
        "                example_text = example_entry.find('EXAMPLE').text\n",
        "                example_dic[example_tag] = example_text\n",
        "              if example_entry.find('TRANSLATION'):\n",
        "                example_TRANSLATION_tag = example_entry.find('TRANSLATION').name\n",
        "                example_TRANSLATION_text = example_entry.find('TRANSLATION').text\n",
        "                example_dic.update({example_TRANSLATION_tag:example_TRANSLATION_text})\n",
        "              if example_entry.find('trans'):\n",
        "                example_trans_tag = example_entry.find('trans').name\n",
        "                example_trans_text = example_entry.find('trans').text\n",
        "                example_dic.update({example_trans_tag:example_trans_text})\n",
        "              sub_sense_examples_list.append(example_dic)\n",
        "              sub_sense_dic.update({sub_sense_examples_tag:sub_sense_examples_list})\n",
        "            sub_sense_list.append(sub_sense_dic)\n",
        "          sense_dic[sub_sense_tag] = sub_sense_list\n",
        "      word_dict[word].update({\"SENSE\": [sense_dic]})\n",
        "   \n",
        "    if test.find('SENSE45') != None:\n",
        "      sense_dic= {}\n",
        "      for sense_entry in test.find_all('SENSE45'):\n",
        "        if sense_entry.find('DEFINITION'):\n",
        "          def_tag = sense_entry.find('DEFINITION').name\n",
        "          def_text = sense_entry.find('DEFINITION').text\n",
        "          sense_dic[def_tag] = def_text\n",
        "        if sense_entry.find(\"trans\"):\n",
        "          trans_tag = sense_entry.find(\"trans\").name\n",
        "          trans_text = sense_entry.find(\"trans\").text\n",
        "          sense_dic[trans_tag] = trans_text\n",
        "        if sense_entry.find(\"TRANSLATION\"):\n",
        "          translation_tag = sense_entry.find(\"TRANSLATION\").name\n",
        "          translation_text = sense_entry.find(\"TRANSLATION\").text\n",
        "          sense_dic[translation_tag] = translation_text\n",
        "        if sense_entry.find(\"EXAMPLES\"):\n",
        "          examples_tag = sense_entry.find(\"EXAMPLES\").name\n",
        "          examples_list = []\n",
        "          for example_entry in sense_entry.find_all(\"EXAMPLES\"):\n",
        "            example_dic = {}\n",
        "            if example_entry.find('EXAMPLE'):\n",
        "              example_tag = example_entry.find('EXAMPLE').name\n",
        "              example_text = example_entry.find('EXAMPLE').text\n",
        "              example_dic[example_tag] = example_text\n",
        "            if example_entry.find('TRANSLATION'):\n",
        "              example_TRANSLATION_tag = example_entry.find('TRANSLATION').name\n",
        "              example_TRANSLATION_text = example_entry.find('TRANSLATION').text\n",
        "              example_dic.update({example_TRANSLATION_tag:example_TRANSLATION_text})\n",
        "            if example_entry.find('trans'):\n",
        "              example_trans_tag = example_entry.find('trans').name\n",
        "              example_trans_text = example_entry.find('trans').text\n",
        "              example_dic.update({example_trans_tag:example_trans_text})\n",
        "            examples_list.append(example_dic)\n",
        "          sense_dic[examples_tag] = examples_list\n",
        "        if sense_entry.find(\"SUB-SENSE\"):\n",
        "          sub_sense_tag = sense_entry.find(\"SUB-SENSE\").name\n",
        "          sub_sense_list = []\n",
        "          for sub_sense_entry in sense_entry.find_all(\"SUB-SENSE\"):\n",
        "            sub_sense_dic = {}\n",
        "            if sub_sense_entry.find('DEFINITION'):\n",
        "              sub_sense_def_tag = sub_sense_entry.find('DEFINITION').name\n",
        "              sub_sense_def_text = sub_sense_entry.find('DEFINITION').text\n",
        "              sub_sense_dic[sub_sense_def_tag] = sub_sense_def_text\n",
        "            if sub_sense_entry.find(\"TRANSLATION\"):\n",
        "              sub_sense_TRANSLATION_tag = sub_sense_entry.find('TRANSLATION').name\n",
        "              sub_sense_TRANSLATION_text = sub_sense_entry.find('TRANSLATION').text\n",
        "              sub_sense_dic.update({sub_sense_TRANSLATION_tag:sub_sense_TRANSLATION_text})\n",
        "            if sub_sense_entry.find('trans'):\n",
        "              sub_sense_trans_tag = sub_sense_entry.find('trans').name\n",
        "              sub_sense_trans_text = sub_sense_entry.find('trans').text\n",
        "              sub_sense_dic.update({sub_sense_trans_tag:sub_sense_trans_text})\n",
        "            if sub_sense_entry.find(\"EXAMPLES\"):\n",
        "              sub_sense_examples_tag = sub_sense_entry.find(\"EXAMPLES\").name\n",
        "              sub_sense_examples_list = []\n",
        "              for example_entry in sub_sense_entry.find_all(\"EXAMPLES\"):\n",
        "                example_dic = {}\n",
        "              if example_entry.find('EXAMPLE'):\n",
        "                example_tag = example_entry.find('EXAMPLE').name\n",
        "                example_text = example_entry.find('EXAMPLE').text\n",
        "                example_dic[example_tag] = example_text\n",
        "              if example_entry.find('TRANSLATION'):\n",
        "                example_TRANSLATION_tag = example_entry.find('TRANSLATION').name\n",
        "                example_TRANSLATION_text = example_entry.find('TRANSLATION').text\n",
        "                example_dic.update({example_TRANSLATION_tag:example_TRANSLATION_text})\n",
        "              if example_entry.find('trans'):\n",
        "                example_trans_tag = example_entry.find('trans').name\n",
        "                example_trans_text = example_entry.find('trans').text\n",
        "                example_dic.update({example_trans_tag:example_trans_text})\n",
        "              sub_sense_examples_list.append(example_dic)\n",
        "              sub_sense_dic.update({sub_sense_examples_tag:sub_sense_examples_list})\n",
        "            sub_sense_list.append(sub_sense_dic)\n",
        "          sense_dic[sub_sense_tag] = sub_sense_list\n",
        "      word_dict[word].update({\"SENSE45\": [sense_dic]})\n"
      ],
      "id": "lYxxaWYCv_WA"
    },
    {
      "cell_type": "code",
      "execution_count": null,
      "metadata": {
        "colab": {
          "base_uri": "https://localhost:8080/"
        },
        "id": "gnvmiKyV5Ufg",
        "outputId": "564c9503-9458-46f7-c011-40912dddd0d1"
      },
      "outputs": [
        {
          "output_type": "execute_result",
          "data": {
            "text/plain": [
              "{'ID': '124631',\n",
              " 'PART-OF-SPEECH': 'verb',\n",
              " 'STYLE-LEVEL': 'mainly literary',\n",
              " 'PHRASE': [{'DEFINITION': 'if you fall into step beside someone, you start walking beside them',\n",
              "   'MULTIWORD': 'fall into step',\n",
              "   'trans': '開始（與…）並肩而行'}],\n",
              " 'SENSE': [{'DEFINITION': 'if a particular job or duty falls to someone, it is their responsibility',\n",
              "   'trans': '由…負責',\n",
              "   'EXAMPLES': [{'EXAMPLE': 'It fell to me to explain to him what happened.',\n",
              "     'trans': '由我負責向他\\ue468釋所發生的事。'}],\n",
              "   'SUB-SENSE': [{'DEFINITION': 'to do a particular job or activity in a careless way so that you are not successful',\n",
              "     'trans': '（因為馬虎而）失敗'}]}],\n",
              " 'SENSE45': [{'DEFINITION': 'if the emphasis falls on a particular part of a word, you emphasize that part when you say or sing it',\n",
              "   'trans': '（重音或強調部分）落在…上',\n",
              "   'EXAMPLES': [{'EXAMPLE': 'In English, the stress in Paris falls on the first syllable.',\n",
              "     'trans': '在英語中，Paris 的重音落在第一個音節。'}],\n",
              "   'SUB-SENSE': [{'DEFINITION': 'if a place falls in a war, a different army takes control of it',\n",
              "     'trans': '陷落；被攻克',\n",
              "     'EXAMPLES': [{'EXAMPLE': 'The city is expected to fall within days.',\n",
              "       'trans': '這座城市可望在數天內攻克。'}]},\n",
              "    {'DEFINITION': 'if people fall in a war, they are killed',\n",
              "     'trans': '陣亡；戰死'},\n",
              "    {'DEFINITION': 'if an area falls to a political party during an election, a different party takes control of it',\n",
              "     'trans': '（選區）失守',\n",
              "     'EXAMPLES': [{'EXAMPLE': 'In the last election, the constituency fell to Labour.',\n",
              "       'trans': '上次選舉中，工黨在該選區獲得勝利。'}]}]}]}"
            ]
          },
          "metadata": {},
          "execution_count": 10
        }
      ],
      "source": [
        "word_dict['fall1']\n",
        "# agony --> 加入 'STYLE-LEVEL'\n",
        "# SUB_SENSE 底下 Examples 印出"
      ],
      "id": "gnvmiKyV5Ufg"
    },
    {
      "cell_type": "code",
      "execution_count": null,
      "metadata": {
        "id": "166d75bd-dacf-4efb-b90f-cb5bc9a37586"
      },
      "outputs": [],
      "source": [],
      "id": "166d75bd-dacf-4efb-b90f-cb5bc9a37586"
    }
  ],
  "metadata": {
    "colab": {
      "collapsed_sections": [],
      "provenance": []
    },
    "kernelspec": {
      "display_name": "Python 3 (ipykernel)",
      "language": "python",
      "name": "python3"
    },
    "language_info": {
      "codemirror_mode": {
        "name": "ipython",
        "version": 3
      },
      "file_extension": ".py",
      "mimetype": "text/x-python",
      "name": "python",
      "nbconvert_exporter": "python",
      "pygments_lexer": "ipython3",
      "version": "3.8.2"
    }
  },
  "nbformat": 4,
  "nbformat_minor": 5
}